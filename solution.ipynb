{
 "cells": [
  {
   "cell_type": "markdown",
   "metadata": {},
   "source": [
    "# CS-UY 3943 - Introduction of Data Science\n",
    "## Final Project: Predicting Survival on the Titanic\n"
   ]
  },
  {
   "cell_type": "markdown",
   "metadata": {},
   "source": [
    "Name:  Taylor Wong\n",
    "NetID:  tw1835\n",
    "Group Member 1:  Thomas Scarola\n",
    "NetID:  tws285\n",
    "***"
   ]
  },
  {
   "cell_type": "markdown",
   "metadata": {},
   "source": [
    "# Problem Statement"
   ]
  },
  {
   "cell_type": "markdown",
   "metadata": {},
   "source": [
    "The sinking of the Titanic is one of the most infamous shipwrecks in history. While there was some element of luck involved in surviving, it seems some groups of people were more likely to survive than others. Based on passenger data, what sorts of people were more likely to survive the Titanic? Can a model be built that will accurately predict survivors?"
   ]
  },
  {
   "cell_type": "markdown",
   "metadata": {},
   "source": [
    "# Data"
   ]
  },
  {
   "cell_type": "markdown",
   "metadata": {},
   "source": [
    "The dataset being used is the \"Titanic – Machine Learning from Disaster\" Kaggle competition data: https://www.kaggle.com/c/titanic/overview\n",
    "\n",
    "It contains information about passengers on the titanic, specifically Passenger ID, if they survived, class, name, sex, age, the number of siblings/spouses they had, the number of parents/children they had, ticket number, ticket fare, cabin number, and where they embarked from."
   ]
  },
  {
   "cell_type": "markdown",
   "metadata": {
    "collapsed": true
   },
   "source": [
    "# Preliminary Data Analysis"
   ]
  },
  {
   "cell_type": "markdown",
   "metadata": {},
   "source": [
    "#### Do Exploratory Data Analysis (EDA) to gain some preliminary insights about the data, which can hopefully be used to guide further analyses\n"
   ]
  },
  {
   "cell_type": "markdown",
   "metadata": {},
   "source": [
    "1\\. Read the data file `train.csv` into your program as a `pandas` `DataFrame`\n",
    "\n",
    "Note: Features `PassengerId`, `Name`, `Ticket`, and `Cabin` are dropped.\n",
    "<ul> <li><b>PassengerId, Name:</b> are unique values, so they aren't contributing factors \n",
    "    when looking for patterns among features</li>\n",
    "        <li><b>Ticket, Cabin:</b> had many missing and/or unique values. In the same vein as with PassengerId and Name above, unique values here would not be helpful in finding patterns. Furthermore, they would be difficult to impute. Dropping them would not harmful, since any information captured in Ticket and Cabin should inherently be captured in Fare or Pclass</li>\n",
    "</ul>"
   ]
  },
  {
   "cell_type": "code",
   "execution_count": 1,
   "metadata": {
    "scrolled": false
   },
   "outputs": [
    {
     "data": {
      "text/html": [
       "<div>\n",
       "<style scoped>\n",
       "    .dataframe tbody tr th:only-of-type {\n",
       "        vertical-align: middle;\n",
       "    }\n",
       "\n",
       "    .dataframe tbody tr th {\n",
       "        vertical-align: top;\n",
       "    }\n",
       "\n",
       "    .dataframe thead th {\n",
       "        text-align: right;\n",
       "    }\n",
       "</style>\n",
       "<table border=\"1\" class=\"dataframe\">\n",
       "  <thead>\n",
       "    <tr style=\"text-align: right;\">\n",
       "      <th></th>\n",
       "      <th>Survived</th>\n",
       "      <th>Pclass</th>\n",
       "      <th>Sex</th>\n",
       "      <th>Age</th>\n",
       "      <th>SibSp</th>\n",
       "      <th>Parch</th>\n",
       "      <th>Fare</th>\n",
       "      <th>Embarked</th>\n",
       "    </tr>\n",
       "  </thead>\n",
       "  <tbody>\n",
       "    <tr>\n",
       "      <th>0</th>\n",
       "      <td>0</td>\n",
       "      <td>3</td>\n",
       "      <td>male</td>\n",
       "      <td>22.0</td>\n",
       "      <td>1</td>\n",
       "      <td>0</td>\n",
       "      <td>7.2500</td>\n",
       "      <td>S</td>\n",
       "    </tr>\n",
       "    <tr>\n",
       "      <th>1</th>\n",
       "      <td>1</td>\n",
       "      <td>1</td>\n",
       "      <td>female</td>\n",
       "      <td>38.0</td>\n",
       "      <td>1</td>\n",
       "      <td>0</td>\n",
       "      <td>71.2833</td>\n",
       "      <td>C</td>\n",
       "    </tr>\n",
       "    <tr>\n",
       "      <th>2</th>\n",
       "      <td>1</td>\n",
       "      <td>3</td>\n",
       "      <td>female</td>\n",
       "      <td>26.0</td>\n",
       "      <td>0</td>\n",
       "      <td>0</td>\n",
       "      <td>7.9250</td>\n",
       "      <td>S</td>\n",
       "    </tr>\n",
       "    <tr>\n",
       "      <th>3</th>\n",
       "      <td>1</td>\n",
       "      <td>1</td>\n",
       "      <td>female</td>\n",
       "      <td>35.0</td>\n",
       "      <td>1</td>\n",
       "      <td>0</td>\n",
       "      <td>53.1000</td>\n",
       "      <td>S</td>\n",
       "    </tr>\n",
       "    <tr>\n",
       "      <th>4</th>\n",
       "      <td>0</td>\n",
       "      <td>3</td>\n",
       "      <td>male</td>\n",
       "      <td>35.0</td>\n",
       "      <td>0</td>\n",
       "      <td>0</td>\n",
       "      <td>8.0500</td>\n",
       "      <td>S</td>\n",
       "    </tr>\n",
       "    <tr>\n",
       "      <th>5</th>\n",
       "      <td>0</td>\n",
       "      <td>3</td>\n",
       "      <td>male</td>\n",
       "      <td>NaN</td>\n",
       "      <td>0</td>\n",
       "      <td>0</td>\n",
       "      <td>8.4583</td>\n",
       "      <td>Q</td>\n",
       "    </tr>\n",
       "    <tr>\n",
       "      <th>6</th>\n",
       "      <td>0</td>\n",
       "      <td>1</td>\n",
       "      <td>male</td>\n",
       "      <td>54.0</td>\n",
       "      <td>0</td>\n",
       "      <td>0</td>\n",
       "      <td>51.8625</td>\n",
       "      <td>S</td>\n",
       "    </tr>\n",
       "    <tr>\n",
       "      <th>7</th>\n",
       "      <td>0</td>\n",
       "      <td>3</td>\n",
       "      <td>male</td>\n",
       "      <td>2.0</td>\n",
       "      <td>3</td>\n",
       "      <td>1</td>\n",
       "      <td>21.0750</td>\n",
       "      <td>S</td>\n",
       "    </tr>\n",
       "    <tr>\n",
       "      <th>8</th>\n",
       "      <td>1</td>\n",
       "      <td>3</td>\n",
       "      <td>female</td>\n",
       "      <td>27.0</td>\n",
       "      <td>0</td>\n",
       "      <td>2</td>\n",
       "      <td>11.1333</td>\n",
       "      <td>S</td>\n",
       "    </tr>\n",
       "    <tr>\n",
       "      <th>9</th>\n",
       "      <td>1</td>\n",
       "      <td>2</td>\n",
       "      <td>female</td>\n",
       "      <td>14.0</td>\n",
       "      <td>1</td>\n",
       "      <td>0</td>\n",
       "      <td>30.0708</td>\n",
       "      <td>C</td>\n",
       "    </tr>\n",
       "  </tbody>\n",
       "</table>\n",
       "</div>"
      ],
      "text/plain": [
       "   Survived  Pclass     Sex   Age  SibSp  Parch     Fare Embarked\n",
       "0         0       3    male  22.0      1      0   7.2500        S\n",
       "1         1       1  female  38.0      1      0  71.2833        C\n",
       "2         1       3  female  26.0      0      0   7.9250        S\n",
       "3         1       1  female  35.0      1      0  53.1000        S\n",
       "4         0       3    male  35.0      0      0   8.0500        S\n",
       "5         0       3    male   NaN      0      0   8.4583        Q\n",
       "6         0       1    male  54.0      0      0  51.8625        S\n",
       "7         0       3    male   2.0      3      1  21.0750        S\n",
       "8         1       3  female  27.0      0      2  11.1333        S\n",
       "9         1       2  female  14.0      1      0  30.0708        C"
      ]
     },
     "execution_count": 1,
     "metadata": {},
     "output_type": "execute_result"
    }
   ],
   "source": [
    "#Place your code here\n",
    "import pandas as pd\n",
    "import numpy as np\n",
    "import seaborn as sns\n",
    "import matplotlib.pyplot as plt\n",
    "%matplotlib inline\n",
    "\n",
    "df = pd.read_csv('train.csv')\n",
    "\n",
    "# dropping ticket, cabin, name -- missing a lot of data, dont contribute much\n",
    "# cabin -- captured in pclass and fare\n",
    "# ticket -- each unique \n",
    "# name -- each unique\n",
    "df = df.drop(labels=['PassengerId', 'Name', 'Ticket', 'Cabin'], axis=1)\n",
    "\n",
    "df.head(10).sort_values('Survived')\n",
    "\n",
    "df.head(10)"
   ]
  },
  {
   "cell_type": "markdown",
   "metadata": {},
   "source": [
    "<hr />"
   ]
  },
  {
   "cell_type": "markdown",
   "metadata": {},
   "source": [
    "2a. Graphical EDA: Categorical Features -- Display the different percentages of each feature in the total data (What percentage of each feature survived? What percentage did not?)\n",
    "\n",
    "Pclass, Sex, SibSp, Parch, Embarked (Note: including SibSp, Parch since they have a small range)\n"
   ]
  },
  {
   "cell_type": "code",
   "execution_count": 2,
   "metadata": {},
   "outputs": [
    {
     "data": {
      "text/plain": [
       "Text(0.5, 1.01, 'Percentage of Surivors by Embarking Destination')"
      ]
     },
     "execution_count": 2,
     "metadata": {},
     "output_type": "execute_result"
    },
    {
     "data": {
      "image/png": "[encoded data removed]",
      "text/plain": [
       "<Figure size 360x360 with 1 Axes>"
      ]
     },
     "metadata": {
      "needs_background": "light"
     },
     "output_type": "display_data"
    },
    {
     "data": {
      "image/png": "[encoded data removed]",
      "text/plain": [
       "<Figure size 360x360 with 1 Axes>"
      ]
     },
     "metadata": {
      "needs_background": "light"
     },
     "output_type": "display_data"
    },
    {
     "data": {
      "image/png": "[encoded data removed]",
      "text/plain": [
       "<Figure size 360x360 with 1 Axes>"
      ]
     },
     "metadata": {
      "needs_background": "light"
     },
     "output_type": "display_data"
    },
    {
     "data": {
      "image/png": "[encoded data removed]",
      "text/plain": [
       "<Figure size 360x360 with 1 Axes>"
      ]
     },
     "metadata": {
      "needs_background": "light"
     },
     "output_type": "display_data"
    },
    {
     "data": {
      "image/png": "[encoded data removed]",
      "text/plain": [
       "<Figure size 360x360 with 1 Axes>"
      ]
     },
     "metadata": {
      "needs_background": "light"
     },
     "output_type": "display_data"
    }
   ],
   "source": [
    "# categorical data EDA (Pclass, Sex, SibSp, Parch, Embarked)\n",
    "\n",
    "# plot the percentage of people that survived based on class\n",
    "class_plot = sns.catplot(data=df, x='Pclass', y='Survived', kind='bar', margin_titles=True)\n",
    "class_plot.fig.suptitle('Percentage of Surivors by Class', y=1.01)\n",
    "\n",
    "# plot the percentage of people that survived based on gender\n",
    "sex_plot = sns.catplot(data=df, x='Sex', y='Survived', kind='bar', margin_titles=True)\n",
    "sex_plot.fig.suptitle('Percentage of Surivors by Sex', y=1.01)\n",
    "\n",
    "# plot the percentage of people that survived based on the number of siblings or spouses they had\n",
    "sibsp_plot = sns.catplot(data=df, x='SibSp', y='Survived', kind='bar', margin_titles=True)\n",
    "sibsp_plot.fig.suptitle('Percentage of Surivors by Amount of Siblings and Spouses Aboard', y=1.01)\n",
    "\n",
    "# plot the percentage of people that survived based on the number of parents or children they had\n",
    "parch_plot = sns.catplot(data=df, x='Parch', y='Survived', kind='bar', margin_titles=True)\n",
    "parch_plot.fig.suptitle('Percentage of Surivors by Parents and Children Aboard', y=1.01)\n",
    "\n",
    "# plot the percentage of people that survived based on where they embarked from \n",
    "embarked_plot = sns.catplot(data=df, x='Embarked', y='Survived', kind='bar', margin_titles=True)\n",
    "embarked_plot.fig.suptitle('Percentage of Surivors by Embarking Destination', y=1.01)\n"
   ]
  },
  {
   "cell_type": "markdown",
   "metadata": {},
   "source": [
    "2b. Graphical EDA: For continuous variables (Age, Fare), plot distributions of survival\n",
    "\n"
   ]
  },
  {
   "cell_type": "code",
   "execution_count": 3,
   "metadata": {},
   "outputs": [
    {
     "data": {
      "text/plain": [
       "Text(0.5, 1.01, 'Distribution of Surivors by Fare')"
      ]
     },
     "execution_count": 3,
     "metadata": {},
     "output_type": "execute_result"
    },
    {
     "data": {
      "image/png": "[encoded data removed]",
      "text/plain": [
       "<Figure size 360x720 with 2 Axes>"
      ]
     },
     "metadata": {
      "needs_background": "light"
     },
     "output_type": "display_data"
    },
    {
     "data": {
      "image/png": "[encoded data removed]",
      "text/plain": [
       "<Figure size 360x720 with 2 Axes>"
      ]
     },
     "metadata": {
      "needs_background": "light"
     },
     "output_type": "display_data"
    }
   ],
   "source": [
    "# continuous data EDA (Age, Fare) \n",
    "# plot the distribution of people that survived based on their ages\n",
    "age_plot = sns.displot(data=df, x='Age', kind='hist', row='Survived', palette='bright')\n",
    "age_plot.fig.suptitle('Distribution of Surivors by Age', y=1.01)\n",
    "\n",
    "fare_plot = sns.displot(data=df, x='Fare', kind='hist', row='Survived', palette='bright')\n",
    "fare_plot.fig.suptitle('Distribution of Surivors by Fare', y=1.01)\n"
   ]
  },
  {
   "cell_type": "markdown",
   "metadata": {},
   "source": [
    "Quantitative EDA -- Summary Statistics (mean, median, std)\n",
    "https://campus.datacamp.com/courses/statistical-thinking-in-python-part-2/introduction-to-hypothesis-testing?ex=1"
   ]
  },
  {
   "cell_type": "code",
   "execution_count": 136,
   "metadata": {},
   "outputs": [],
   "source": [
    "def ss_helper(survived, feature):\n",
    "    values = df[df['Survived'] == survived][feature]\n",
    "    print('\\t\\t Mean: ', np.mean(values))\n",
    "    print('\\t\\t Median: ', np.median(values))\n",
    "    print('\\t\\t Standard Deviation: ', np.std(values))\n",
    "\n",
    "def sum_stats(feature):\n",
    "    print(feature, 'Summary Stats:')\n",
    "    print('\\t Survived:'), ss_helper(1, feature)\n",
    "    print('\\t Non-Survived:'), ss_helper(0, feature)"
   ]
  },
  {
   "cell_type": "code",
   "execution_count": 135,
   "metadata": {},
   "outputs": [
    {
     "name": "stdout",
     "output_type": "stream",
     "text": [
      "Age Summary Stats:\n",
      "\t Survived:\n",
      "\t\t Mean:  28.343689655172415\n",
      "\t\t Median:  nan\n",
      "\t\t Standard Deviation:  14.925152220337246\n",
      "\t Non-Survived:\n",
      "\t\t Mean:  30.62617924528302\n",
      "\t\t Median:  nan\n",
      "\t\t Standard Deviation:  14.15538761777227\n",
      "Fare Summary Stats:\n",
      "\t Survived:\n",
      "\t\t Mean:  48.39540760233917\n",
      "\t\t Median:  26.0\n",
      "\t\t Standard Deviation:  66.49956280917581\n",
      "\t Non-Survived:\n",
      "\t\t Mean:  22.117886885245877\n",
      "\t\t Median:  10.5\n",
      "\t\t Standard Deviation:  31.359606792023406\n"
     ]
    }
   ],
   "source": [
    "sum_stats('Age')\n",
    "sum_stats('Fare')"
   ]
  },
  {
   "cell_type": "markdown",
   "metadata": {},
   "source": [
    "#### Brief Discussion of What EDA Has Revealed About the Data"
   ]
  },
  {
   "cell_type": "markdown",
   "metadata": {},
   "source": [
    "<p>\n",
    "<span style=\"color:blue\">\n",
    "    Based on Graphical EDA of Pclass, Sex, Sibsp, Parch, Embark:\n",
    "</span>\n",
    "    <ul>\n",
    "        <li><b>Pclass:</b> Pclass 1 (Upper class) has more survivors than Pclass 2 & 3</li>\n",
    "        <li><b>Sex:</b> There were drastically more female survivors than male survivors</li>\n",
    "        <li><b>Sibsp:</b> In many cases, people with fewer siblings/spouses had were more likely to survive</li>\n",
    "        <li><b>Parch:</b> Number of parents/children among survivors varied, with no quantity more likely to \n",
    "            survive than others</li>\n",
    "        <li><b>Embark:</b> There were more people who survived who embarked from Cherbourg than other ports of embarkation</li>\n",
    "    </ul>\n",
    "    <br>\n",
    "<span style=\"color:blue\">\n",
    "    Based on Graphical & Quantitative EDA of Age, Fare:\n",
    "</span>\n",
    "    <ul>\n",
    "    <li><b>Age:</b> At first look, there doesn't seem to be a stark difference between the ages of \n",
    "            survivors vs non-survivors</li>\n",
    "        <ul><li>There also seems to be missing age values</li></ul>\n",
    "    <li><b>Fare:</b> At first look, there does seem to be a discrepancy between the fare paid by those who survived versus those who didnt</li>\n",
    "    </ul>\n",
    "</p>"
   ]
  },
  {
   "cell_type": "markdown",
   "metadata": {
    "collapsed": true
   },
   "source": [
    "# Acutal Data Analysis"
   ]
  },
  {
   "cell_type": "markdown",
   "metadata": {
    "collapsed": true
   },
   "source": [
    "## Preprocessing"
   ]
  },
  {
   "cell_type": "markdown",
   "metadata": {},
   "source": [
    "Converting categorical data to dummies (aka making them into individual columns).\n",
    "\n",
    "Note: `Pclass` must also be converted -- although represented numerically, is actually categorical"
   ]
  },
  {
   "cell_type": "code",
   "execution_count": 4,
   "metadata": {},
   "outputs": [
    {
     "data": {
      "text/html": [
       "<div>\n",
       "<style scoped>\n",
       "    .dataframe tbody tr th:only-of-type {\n",
       "        vertical-align: middle;\n",
       "    }\n",
       "\n",
       "    .dataframe tbody tr th {\n",
       "        vertical-align: top;\n",
       "    }\n",
       "\n",
       "    .dataframe thead th {\n",
       "        text-align: right;\n",
       "    }\n",
       "</style>\n",
       "<table border=\"1\" class=\"dataframe\">\n",
       "  <thead>\n",
       "    <tr style=\"text-align: right;\">\n",
       "      <th></th>\n",
       "      <th>Survived</th>\n",
       "      <th>Age</th>\n",
       "      <th>SibSp</th>\n",
       "      <th>Parch</th>\n",
       "      <th>Fare</th>\n",
       "      <th>Pclass_1</th>\n",
       "      <th>Pclass_2</th>\n",
       "      <th>Pclass_3</th>\n",
       "      <th>Sex_female</th>\n",
       "      <th>Sex_male</th>\n",
       "      <th>Embarked_C</th>\n",
       "      <th>Embarked_Q</th>\n",
       "      <th>Embarked_S</th>\n",
       "    </tr>\n",
       "  </thead>\n",
       "  <tbody>\n",
       "    <tr>\n",
       "      <th>0</th>\n",
       "      <td>0</td>\n",
       "      <td>22.0</td>\n",
       "      <td>1</td>\n",
       "      <td>0</td>\n",
       "      <td>7.2500</td>\n",
       "      <td>0</td>\n",
       "      <td>0</td>\n",
       "      <td>1</td>\n",
       "      <td>0</td>\n",
       "      <td>1</td>\n",
       "      <td>0</td>\n",
       "      <td>0</td>\n",
       "      <td>1</td>\n",
       "    </tr>\n",
       "    <tr>\n",
       "      <th>1</th>\n",
       "      <td>1</td>\n",
       "      <td>38.0</td>\n",
       "      <td>1</td>\n",
       "      <td>0</td>\n",
       "      <td>71.2833</td>\n",
       "      <td>1</td>\n",
       "      <td>0</td>\n",
       "      <td>0</td>\n",
       "      <td>1</td>\n",
       "      <td>0</td>\n",
       "      <td>1</td>\n",
       "      <td>0</td>\n",
       "      <td>0</td>\n",
       "    </tr>\n",
       "    <tr>\n",
       "      <th>2</th>\n",
       "      <td>1</td>\n",
       "      <td>26.0</td>\n",
       "      <td>0</td>\n",
       "      <td>0</td>\n",
       "      <td>7.9250</td>\n",
       "      <td>0</td>\n",
       "      <td>0</td>\n",
       "      <td>1</td>\n",
       "      <td>1</td>\n",
       "      <td>0</td>\n",
       "      <td>0</td>\n",
       "      <td>0</td>\n",
       "      <td>1</td>\n",
       "    </tr>\n",
       "    <tr>\n",
       "      <th>3</th>\n",
       "      <td>1</td>\n",
       "      <td>35.0</td>\n",
       "      <td>1</td>\n",
       "      <td>0</td>\n",
       "      <td>53.1000</td>\n",
       "      <td>1</td>\n",
       "      <td>0</td>\n",
       "      <td>0</td>\n",
       "      <td>1</td>\n",
       "      <td>0</td>\n",
       "      <td>0</td>\n",
       "      <td>0</td>\n",
       "      <td>1</td>\n",
       "    </tr>\n",
       "    <tr>\n",
       "      <th>4</th>\n",
       "      <td>0</td>\n",
       "      <td>35.0</td>\n",
       "      <td>0</td>\n",
       "      <td>0</td>\n",
       "      <td>8.0500</td>\n",
       "      <td>0</td>\n",
       "      <td>0</td>\n",
       "      <td>1</td>\n",
       "      <td>0</td>\n",
       "      <td>1</td>\n",
       "      <td>0</td>\n",
       "      <td>0</td>\n",
       "      <td>1</td>\n",
       "    </tr>\n",
       "    <tr>\n",
       "      <th>...</th>\n",
       "      <td>...</td>\n",
       "      <td>...</td>\n",
       "      <td>...</td>\n",
       "      <td>...</td>\n",
       "      <td>...</td>\n",
       "      <td>...</td>\n",
       "      <td>...</td>\n",
       "      <td>...</td>\n",
       "      <td>...</td>\n",
       "      <td>...</td>\n",
       "      <td>...</td>\n",
       "      <td>...</td>\n",
       "      <td>...</td>\n",
       "    </tr>\n",
       "    <tr>\n",
       "      <th>886</th>\n",
       "      <td>0</td>\n",
       "      <td>27.0</td>\n",
       "      <td>0</td>\n",
       "      <td>0</td>\n",
       "      <td>13.0000</td>\n",
       "      <td>0</td>\n",
       "      <td>1</td>\n",
       "      <td>0</td>\n",
       "      <td>0</td>\n",
       "      <td>1</td>\n",
       "      <td>0</td>\n",
       "      <td>0</td>\n",
       "      <td>1</td>\n",
       "    </tr>\n",
       "    <tr>\n",
       "      <th>887</th>\n",
       "      <td>1</td>\n",
       "      <td>19.0</td>\n",
       "      <td>0</td>\n",
       "      <td>0</td>\n",
       "      <td>30.0000</td>\n",
       "      <td>1</td>\n",
       "      <td>0</td>\n",
       "      <td>0</td>\n",
       "      <td>1</td>\n",
       "      <td>0</td>\n",
       "      <td>0</td>\n",
       "      <td>0</td>\n",
       "      <td>1</td>\n",
       "    </tr>\n",
       "    <tr>\n",
       "      <th>888</th>\n",
       "      <td>0</td>\n",
       "      <td>NaN</td>\n",
       "      <td>1</td>\n",
       "      <td>2</td>\n",
       "      <td>23.4500</td>\n",
       "      <td>0</td>\n",
       "      <td>0</td>\n",
       "      <td>1</td>\n",
       "      <td>1</td>\n",
       "      <td>0</td>\n",
       "      <td>0</td>\n",
       "      <td>0</td>\n",
       "      <td>1</td>\n",
       "    </tr>\n",
       "    <tr>\n",
       "      <th>889</th>\n",
       "      <td>1</td>\n",
       "      <td>26.0</td>\n",
       "      <td>0</td>\n",
       "      <td>0</td>\n",
       "      <td>30.0000</td>\n",
       "      <td>1</td>\n",
       "      <td>0</td>\n",
       "      <td>0</td>\n",
       "      <td>0</td>\n",
       "      <td>1</td>\n",
       "      <td>1</td>\n",
       "      <td>0</td>\n",
       "      <td>0</td>\n",
       "    </tr>\n",
       "    <tr>\n",
       "      <th>890</th>\n",
       "      <td>0</td>\n",
       "      <td>32.0</td>\n",
       "      <td>0</td>\n",
       "      <td>0</td>\n",
       "      <td>7.7500</td>\n",
       "      <td>0</td>\n",
       "      <td>0</td>\n",
       "      <td>1</td>\n",
       "      <td>0</td>\n",
       "      <td>1</td>\n",
       "      <td>0</td>\n",
       "      <td>1</td>\n",
       "      <td>0</td>\n",
       "    </tr>\n",
       "  </tbody>\n",
       "</table>\n",
       "<p>891 rows × 13 columns</p>\n",
       "</div>"
      ],
      "text/plain": [
       "     Survived   Age  SibSp  Parch     Fare  Pclass_1  Pclass_2  Pclass_3  \\\n",
       "0           0  22.0      1      0   7.2500         0         0         1   \n",
       "1           1  38.0      1      0  71.2833         1         0         0   \n",
       "2           1  26.0      0      0   7.9250         0         0         1   \n",
       "3           1  35.0      1      0  53.1000         1         0         0   \n",
       "4           0  35.0      0      0   8.0500         0         0         1   \n",
       "..        ...   ...    ...    ...      ...       ...       ...       ...   \n",
       "886         0  27.0      0      0  13.0000         0         1         0   \n",
       "887         1  19.0      0      0  30.0000         1         0         0   \n",
       "888         0   NaN      1      2  23.4500         0         0         1   \n",
       "889         1  26.0      0      0  30.0000         1         0         0   \n",
       "890         0  32.0      0      0   7.7500         0         0         1   \n",
       "\n",
       "     Sex_female  Sex_male  Embarked_C  Embarked_Q  Embarked_S  \n",
       "0             0         1           0           0           1  \n",
       "1             1         0           1           0           0  \n",
       "2             1         0           0           0           1  \n",
       "3             1         0           0           0           1  \n",
       "4             0         1           0           0           1  \n",
       "..          ...       ...         ...         ...         ...  \n",
       "886           0         1           0           0           1  \n",
       "887           1         0           0           0           1  \n",
       "888           1         0           0           0           1  \n",
       "889           0         1           1           0           0  \n",
       "890           0         1           0           1           0  \n",
       "\n",
       "[891 rows x 13 columns]"
      ]
     },
     "execution_count": 4,
     "metadata": {},
     "output_type": "execute_result"
    }
   ],
   "source": [
    "# convert categorical data to dummies, including Pclass (since its actually categorical, represented by numbers)\n",
    "df_origin = df\n",
    "df_origin['Pclass'] = pd.Categorical(df_origin.Pclass)\n",
    "df_origin = pd.get_dummies(df_origin)\n",
    "df_origin"
   ]
  },
  {
   "cell_type": "markdown",
   "metadata": {},
   "source": [
    "Fill in missing age data with the average age (some missing data, but not a large enough amount for imputation to significantly impact data/results)"
   ]
  },
  {
   "cell_type": "code",
   "execution_count": 5,
   "metadata": {
    "scrolled": true
   },
   "outputs": [
    {
     "data": {
      "text/html": [
       "<div>\n",
       "<style scoped>\n",
       "    .dataframe tbody tr th:only-of-type {\n",
       "        vertical-align: middle;\n",
       "    }\n",
       "\n",
       "    .dataframe tbody tr th {\n",
       "        vertical-align: top;\n",
       "    }\n",
       "\n",
       "    .dataframe thead th {\n",
       "        text-align: right;\n",
       "    }\n",
       "</style>\n",
       "<table border=\"1\" class=\"dataframe\">\n",
       "  <thead>\n",
       "    <tr style=\"text-align: right;\">\n",
       "      <th></th>\n",
       "      <th>Survived</th>\n",
       "      <th>Age</th>\n",
       "      <th>SibSp</th>\n",
       "      <th>Parch</th>\n",
       "      <th>Fare</th>\n",
       "      <th>Pclass_1</th>\n",
       "      <th>Pclass_2</th>\n",
       "      <th>Pclass_3</th>\n",
       "      <th>Sex_female</th>\n",
       "      <th>Sex_male</th>\n",
       "      <th>Embarked_C</th>\n",
       "      <th>Embarked_Q</th>\n",
       "      <th>Embarked_S</th>\n",
       "    </tr>\n",
       "  </thead>\n",
       "  <tbody>\n",
       "    <tr>\n",
       "      <th>0</th>\n",
       "      <td>0</td>\n",
       "      <td>22.000000</td>\n",
       "      <td>1</td>\n",
       "      <td>0</td>\n",
       "      <td>7.2500</td>\n",
       "      <td>0</td>\n",
       "      <td>0</td>\n",
       "      <td>1</td>\n",
       "      <td>0</td>\n",
       "      <td>1</td>\n",
       "      <td>0</td>\n",
       "      <td>0</td>\n",
       "      <td>1</td>\n",
       "    </tr>\n",
       "    <tr>\n",
       "      <th>1</th>\n",
       "      <td>1</td>\n",
       "      <td>38.000000</td>\n",
       "      <td>1</td>\n",
       "      <td>0</td>\n",
       "      <td>71.2833</td>\n",
       "      <td>1</td>\n",
       "      <td>0</td>\n",
       "      <td>0</td>\n",
       "      <td>1</td>\n",
       "      <td>0</td>\n",
       "      <td>1</td>\n",
       "      <td>0</td>\n",
       "      <td>0</td>\n",
       "    </tr>\n",
       "    <tr>\n",
       "      <th>2</th>\n",
       "      <td>1</td>\n",
       "      <td>26.000000</td>\n",
       "      <td>0</td>\n",
       "      <td>0</td>\n",
       "      <td>7.9250</td>\n",
       "      <td>0</td>\n",
       "      <td>0</td>\n",
       "      <td>1</td>\n",
       "      <td>1</td>\n",
       "      <td>0</td>\n",
       "      <td>0</td>\n",
       "      <td>0</td>\n",
       "      <td>1</td>\n",
       "    </tr>\n",
       "    <tr>\n",
       "      <th>3</th>\n",
       "      <td>1</td>\n",
       "      <td>35.000000</td>\n",
       "      <td>1</td>\n",
       "      <td>0</td>\n",
       "      <td>53.1000</td>\n",
       "      <td>1</td>\n",
       "      <td>0</td>\n",
       "      <td>0</td>\n",
       "      <td>1</td>\n",
       "      <td>0</td>\n",
       "      <td>0</td>\n",
       "      <td>0</td>\n",
       "      <td>1</td>\n",
       "    </tr>\n",
       "    <tr>\n",
       "      <th>4</th>\n",
       "      <td>0</td>\n",
       "      <td>35.000000</td>\n",
       "      <td>0</td>\n",
       "      <td>0</td>\n",
       "      <td>8.0500</td>\n",
       "      <td>0</td>\n",
       "      <td>0</td>\n",
       "      <td>1</td>\n",
       "      <td>0</td>\n",
       "      <td>1</td>\n",
       "      <td>0</td>\n",
       "      <td>0</td>\n",
       "      <td>1</td>\n",
       "    </tr>\n",
       "    <tr>\n",
       "      <th>...</th>\n",
       "      <td>...</td>\n",
       "      <td>...</td>\n",
       "      <td>...</td>\n",
       "      <td>...</td>\n",
       "      <td>...</td>\n",
       "      <td>...</td>\n",
       "      <td>...</td>\n",
       "      <td>...</td>\n",
       "      <td>...</td>\n",
       "      <td>...</td>\n",
       "      <td>...</td>\n",
       "      <td>...</td>\n",
       "      <td>...</td>\n",
       "    </tr>\n",
       "    <tr>\n",
       "      <th>886</th>\n",
       "      <td>0</td>\n",
       "      <td>27.000000</td>\n",
       "      <td>0</td>\n",
       "      <td>0</td>\n",
       "      <td>13.0000</td>\n",
       "      <td>0</td>\n",
       "      <td>1</td>\n",
       "      <td>0</td>\n",
       "      <td>0</td>\n",
       "      <td>1</td>\n",
       "      <td>0</td>\n",
       "      <td>0</td>\n",
       "      <td>1</td>\n",
       "    </tr>\n",
       "    <tr>\n",
       "      <th>887</th>\n",
       "      <td>1</td>\n",
       "      <td>19.000000</td>\n",
       "      <td>0</td>\n",
       "      <td>0</td>\n",
       "      <td>30.0000</td>\n",
       "      <td>1</td>\n",
       "      <td>0</td>\n",
       "      <td>0</td>\n",
       "      <td>1</td>\n",
       "      <td>0</td>\n",
       "      <td>0</td>\n",
       "      <td>0</td>\n",
       "      <td>1</td>\n",
       "    </tr>\n",
       "    <tr>\n",
       "      <th>888</th>\n",
       "      <td>0</td>\n",
       "      <td>29.699118</td>\n",
       "      <td>1</td>\n",
       "      <td>2</td>\n",
       "      <td>23.4500</td>\n",
       "      <td>0</td>\n",
       "      <td>0</td>\n",
       "      <td>1</td>\n",
       "      <td>1</td>\n",
       "      <td>0</td>\n",
       "      <td>0</td>\n",
       "      <td>0</td>\n",
       "      <td>1</td>\n",
       "    </tr>\n",
       "    <tr>\n",
       "      <th>889</th>\n",
       "      <td>1</td>\n",
       "      <td>26.000000</td>\n",
       "      <td>0</td>\n",
       "      <td>0</td>\n",
       "      <td>30.0000</td>\n",
       "      <td>1</td>\n",
       "      <td>0</td>\n",
       "      <td>0</td>\n",
       "      <td>0</td>\n",
       "      <td>1</td>\n",
       "      <td>1</td>\n",
       "      <td>0</td>\n",
       "      <td>0</td>\n",
       "    </tr>\n",
       "    <tr>\n",
       "      <th>890</th>\n",
       "      <td>0</td>\n",
       "      <td>32.000000</td>\n",
       "      <td>0</td>\n",
       "      <td>0</td>\n",
       "      <td>7.7500</td>\n",
       "      <td>0</td>\n",
       "      <td>0</td>\n",
       "      <td>1</td>\n",
       "      <td>0</td>\n",
       "      <td>1</td>\n",
       "      <td>0</td>\n",
       "      <td>1</td>\n",
       "      <td>0</td>\n",
       "    </tr>\n",
       "  </tbody>\n",
       "</table>\n",
       "<p>891 rows × 13 columns</p>\n",
       "</div>"
      ],
      "text/plain": [
       "     Survived        Age  SibSp  Parch     Fare  Pclass_1  Pclass_2  Pclass_3  \\\n",
       "0           0  22.000000      1      0   7.2500         0         0         1   \n",
       "1           1  38.000000      1      0  71.2833         1         0         0   \n",
       "2           1  26.000000      0      0   7.9250         0         0         1   \n",
       "3           1  35.000000      1      0  53.1000         1         0         0   \n",
       "4           0  35.000000      0      0   8.0500         0         0         1   \n",
       "..        ...        ...    ...    ...      ...       ...       ...       ...   \n",
       "886         0  27.000000      0      0  13.0000         0         1         0   \n",
       "887         1  19.000000      0      0  30.0000         1         0         0   \n",
       "888         0  29.699118      1      2  23.4500         0         0         1   \n",
       "889         1  26.000000      0      0  30.0000         1         0         0   \n",
       "890         0  32.000000      0      0   7.7500         0         0         1   \n",
       "\n",
       "     Sex_female  Sex_male  Embarked_C  Embarked_Q  Embarked_S  \n",
       "0             0         1           0           0           1  \n",
       "1             1         0           1           0           0  \n",
       "2             1         0           0           0           1  \n",
       "3             1         0           0           0           1  \n",
       "4             0         1           0           0           1  \n",
       "..          ...       ...         ...         ...         ...  \n",
       "886           0         1           0           0           1  \n",
       "887           1         0           0           0           1  \n",
       "888           1         0           0           0           1  \n",
       "889           0         1           1           0           0  \n",
       "890           0         1           0           1           0  \n",
       "\n",
       "[891 rows x 13 columns]"
      ]
     },
     "execution_count": 5,
     "metadata": {},
     "output_type": "execute_result"
    }
   ],
   "source": [
    "# note: missing age data --> fill in with average ages\n",
    "# df_origin.isna().sum()\n",
    "\n",
    "df_origin['Age'] = df_origin['Age'].fillna(np.mean(df_origin['Age']))\n",
    "df_origin"
   ]
  },
  {
   "cell_type": "markdown",
   "metadata": {},
   "source": [
    "## Hypothesis Testing"
   ]
  },
  {
   "cell_type": "markdown",
   "metadata": {},
   "source": [
    "### Helper Functions"
   ]
  },
  {
   "cell_type": "markdown",
   "metadata": {},
   "source": [
    "#### Permutation Functions"
   ]
  },
  {
   "cell_type": "code",
   "execution_count": 6,
   "metadata": {},
   "outputs": [],
   "source": [
    "def permutation_sample(data1, data2):\n",
    "    #\"\"\"Generate a permutation sample from two data sets.\"\"\"\n",
    "\n",
    "    # Concatenate the data sets: data\n",
    "    data = np.concatenate((data1, data2))\n",
    "\n",
    "    # Permute the concatenated array: permuted_data\n",
    "    permuted_data = np.random.permutation(data)\n",
    "\n",
    "    # Split the permuted array into two: perm_sample_1, perm_sample_2\n",
    "    perm_sample_1 = permuted_data[:len(data1)]\n",
    "    perm_sample_2 = permuted_data[len(data1):]\n",
    "\n",
    "    return perm_sample_1, perm_sample_2\n",
    "\n",
    "# permutation replicate: test statistic generated from permutation sample\n",
    "def draw_perm_reps(data_1, data_2, func, size=1):\n",
    "    #\"\"\"Generate multiple permutation replicates.\"\"\"\n",
    "\n",
    "    # Initialize array of replicates: perm_replicates\n",
    "    perm_replicates = np.empty(size)\n",
    "\n",
    "    for i in range(size):\n",
    "        # Generate permutation sample\n",
    "        perm_sample_1, perm_sample_2 = permutation_sample(data_1, data_2)\n",
    "\n",
    "        # Compute the test statistic\n",
    "        perm_replicates[i] = func(perm_sample_1, perm_sample_2)\n",
    "\n",
    "    return perm_replicates"
   ]
  },
  {
   "cell_type": "markdown",
   "metadata": {},
   "source": [
    "#### Helper Functions For Categorical Feature Hypothesis Testing"
   ]
  },
  {
   "cell_type": "code",
   "execution_count": 141,
   "metadata": {},
   "outputs": [],
   "source": [
    "def frac_survivors(group1, group2):\n",
    "    #\"\"\"Compute fraction of Group1 survivors.\"\"\"\n",
    "    frac = np.sum(group1) / len(group1)\n",
    "    return frac\n",
    "\n",
    "def num_total_and_survived_passengers(passenger_df):\n",
    "    num_passengers = len(passenger_df)\n",
    "    num_survived_passengers = np.sum(passenger_df['Survived'])\n",
    "    return (num_passengers, num_survived_passengers)\n",
    "\n",
    "# Actual categorical feature hypothesis test code\n",
    "def categorical_hypothesis_test(group1_df, group2_df):\n",
    "    \n",
    "    # Get number of total and survived passengers for each group\n",
    "    num_group1_passengers, num_group1_survived = num_total_and_survived_passengers(group1_df)\n",
    "    num_group2_passengers, num_group2_survived = num_total_and_survived_passengers(group2_df)\n",
    "    \n",
    "    # Print observed test statistic \n",
    "    print('Observed Test Statistic: ', num_group1_survived/num_group1_passengers)\n",
    "    \n",
    "    # Construct arrays of data: males and females\n",
    "    group1 = np.array([True] * num_group1_survived + [False] * (num_group1_passengers - num_group1_survived))\n",
    "    group2 = np.array([True] * num_group2_survived + [False] * (num_group2_passengers - num_group2_survived))\n",
    "    \n",
    "    # Acquire permutation samples: perm_replicates\n",
    "    perm_replicates = draw_perm_reps(group1, group2, frac_survivors, 10000)\n",
    "    \n",
    "    # Compute and print p-value: p\n",
    "    p = np.sum(perm_replicates >= num_group1_survived/num_group1_passengers) / len(perm_replicates)\n",
    "    print('p-value =', p)\n",
    "    \n",
    "    # rough hist plot of permutation replicate distribution\n",
    "    _ = plt.hist(perm_replicates, bins=50)\n"
   ]
  },
  {
   "cell_type": "markdown",
   "metadata": {},
   "source": [
    "#### Bootstrap Functions"
   ]
  },
  {
   "cell_type": "code",
   "execution_count": 8,
   "metadata": {},
   "outputs": [],
   "source": [
    "def bootstrap_replicate_1d(data, func):\n",
    "    #\"\"\"Generate bootstrap replicate of 1D data.\"\"\"\n",
    "    bs_sample = np.random.choice(data, len(data))\n",
    "    return func(bs_sample)\n",
    "\n",
    "def draw_bs_reps(data, func, size=1):\n",
    "    #\"\"\"Draw bootstrap replicates.\"\"\"\n",
    "\n",
    "    # Initialize array of replicates: bs_replicates\n",
    "    bs_replicates = np.empty(size)\n",
    "\n",
    "    # Generate replicates\n",
    "    for i in range(size):\n",
    "        bs_replicates[i] = bootstrap_replicate_1d(data, func)\n",
    "\n",
    "    return bs_replicates"
   ]
  },
  {
   "cell_type": "markdown",
   "metadata": {},
   "source": [
    "#### Helper Functions For Numerical Feature Hypothesis Testing"
   ]
  },
  {
   "cell_type": "code",
   "execution_count": 140,
   "metadata": {},
   "outputs": [],
   "source": [
    "# Actual numerical feature hypothesis test code\n",
    "def numerical_hypothesis_test(feature_name, func):\n",
    "    \n",
    "    # Get feature values for survivors\n",
    "    survivors_feature = df_origin[df_origin['Survived'] == 1][feature_name]\n",
    "    # Get feature values for non-survivors\n",
    "    nonsurvivors_feature = df_origin[df_origin['Survived'] == 0][feature_name]\n",
    "\n",
    "    # Generate a lot of replicates\n",
    "    survivors_feature_replicates = draw_bs_reps(survivors_feature, func, 10000)\n",
    "    nonsurvivor_feature_replicates = draw_bs_reps(nonsurvivors_feature, func, 10000)\n",
    "\n",
    "    # Calculate test statistics \n",
    "    bs_test_stats = (survivors_feature_replicates - nonsurvivor_feature_replicates) # array of mean/median differences between both bs sample\n",
    "    observed_test_stats = (func(survivors_feature) - func(nonsurvivors_feature))\n",
    "\n",
    "    # Print observed test statistic \n",
    "    print('Observed Test Statistic: ', observed_test_stats)\n",
    "    \n",
    "    p_value = np.sum(bs_test_stats >= observed_test_stats) / 10000\n",
    "    print('p-value =', p_value)\n",
    "\n",
    "     # rough hist plot of survivor replicate distribution\n",
    "    _ = plt.hist(survivors_feature_replicates, alpha = 0.7, bins=50)\n",
    "    # rough hist plot of non-survivor replicate distribution\n",
    "    _ = plt.hist(nonsurvivor_feature_replicates, alpha = 0.7, bins=50)\n",
    "    plt.legend(['Survivors Feature Replicates', 'Non-Survivors Feature Replicates'])\n",
    "    \n",
    "\n",
    "\n"
   ]
  },
  {
   "cell_type": "markdown",
   "metadata": {},
   "source": [
    "--------------------------------------------------------------------------------------------------"
   ]
  },
  {
   "cell_type": "markdown",
   "metadata": {},
   "source": [
    "### Categorical Features Hypothesis Testing"
   ]
  },
  {
   "cell_type": "markdown",
   "metadata": {},
   "source": [
    "### Gender\n",
    "\n",
    "Null hypothesis: There is no difference in survival\n",
    "\n",
    "Test statistic: # Female Survivors / Total Female Passengers\n",
    "\n",
    "If gender did not impact survival --> large number of bootstrap \n",
    "replicates with a proportion of female survivors (test statistic)\n",
    "at least as large as the one observed in the data\n",
    "\n",
    "AKA p-value (probability of above)\n",
    "- small: data are statistically significantly different than what's observed under the null hypothesis (null hypothesis circumstances are different than the actual circumstances)"
   ]
  },
  {
   "cell_type": "code",
   "execution_count": 10,
   "metadata": {},
   "outputs": [],
   "source": [
    "# df all female passgengers\n",
    "female_passengers = df_origin[df_origin['Sex_female'] == 1]\n",
    "# df all male passengers\n",
    "male_passengers = df_origin[df_origin['Sex_male'] == 1]"
   ]
  },
  {
   "cell_type": "code",
   "execution_count": 11,
   "metadata": {},
   "outputs": [
    {
     "name": "stdout",
     "output_type": "stream",
     "text": [
      "Observed Test Statistic:  0.7420382165605095\n",
      "p-value = 0.0\n"
     ]
    },
    {
     "data": {
      "image/png": "[encoded data removed]",
      "text/plain": [
       "<Figure size 432x288 with 1 Axes>"
      ]
     },
     "metadata": {
      "needs_background": "light"
     },
     "output_type": "display_data"
    }
   ],
   "source": [
    "categorical_hypothesis_test(female_passengers, male_passengers)\n",
    "_ = plt.title('Distribution of Sex Permutation Replicates')"
   ]
  },
  {
   "cell_type": "markdown",
   "metadata": {},
   "source": [
    "<p>\n",
    "<span style=\"color:blue\">\n",
    "    Our p-value IS signficantly small, meaning the data observed under the null hypothesis is statistically significantly different from the actual/observed data. Therefore we can reject the nully hypothesis that there is no difference in survival based on gender, and say that there IS a difference in survival based on gender.    \n",
    "    <br><br>\n",
    "    As a result, gender is a significant feature in predicting survival.\n",
    "    </span>\n",
    "\n",
    "</p>\n"
   ]
  },
  {
   "cell_type": "markdown",
   "metadata": {},
   "source": [
    "### Class\n",
    "\n",
    "Null hypothesis: There is no difference in class survival\n",
    "\n",
    "Test statistic: # Pclass1 Survivors / Total Pclass1 Passengers"
   ]
  },
  {
   "cell_type": "code",
   "execution_count": 12,
   "metadata": {},
   "outputs": [],
   "source": [
    "# df all Pclass1 passgengers\n",
    "Pclass1_passengers = df_origin[df_origin['Pclass_1'] == 1]\n",
    "# df all Pclass2+Pclass3 passengers\n",
    "Pclass23_passengers = df_origin[(df_origin['Pclass_2'] == 1) | (df_origin['Pclass_3'] == 1)]\n"
   ]
  },
  {
   "cell_type": "code",
   "execution_count": 13,
   "metadata": {},
   "outputs": [
    {
     "name": "stdout",
     "output_type": "stream",
     "text": [
      "Observed Test Statistic:  0.6296296296296297\n",
      "p-value = 0.0\n"
     ]
    },
    {
     "data": {
      "image/png": "[encoded data removed]",
      "text/plain": [
       "<Figure size 432x288 with 1 Axes>"
      ]
     },
     "metadata": {
      "needs_background": "light"
     },
     "output_type": "display_data"
    }
   ],
   "source": [
    "categorical_hypothesis_test(Pclass1_passengers, Pclass23_passengers)\n",
    "_ = plt.title('Distribution of Pclass Permutation Replicates')"
   ]
  },
  {
   "cell_type": "markdown",
   "metadata": {},
   "source": [
    "<p>\n",
    "<span style=\"color:blue\">\n",
    "    Our p-value IS signficantly small, meaning the data observed under the null hypothesis is statistically significantly different from the actual/observed data. Therefore we can reject the nully hypothesis that there is no difference in survival based on class, and say that there IS a difference in survival based on class.\n",
    "    <br><br>\n",
    "    As a result, class is a significant feature in predicting survival.\n",
    "    </span>\n",
    "</p>"
   ]
  },
  {
   "cell_type": "markdown",
   "metadata": {},
   "source": [
    "### Embarked\n",
    "\n",
    "Null hypothesis: There is no difference in Embarked location survival\n",
    "\n",
    "Test statistic: # Embarked_C Survivors / Total Embarked_C Passengers"
   ]
  },
  {
   "cell_type": "code",
   "execution_count": 14,
   "metadata": {},
   "outputs": [],
   "source": [
    "# df all Embarked_C passgengers\n",
    "Embarked_C_passengers = df_origin[df_origin['Embarked_C'] == 1]\n",
    "# df all Embarked_Q + Embarked_S passgengers\n",
    "Embarked_QS_passengers = df_origin[(df_origin['Embarked_Q'] == 1) | (df_origin['Embarked_S'] == 1)]\n"
   ]
  },
  {
   "cell_type": "code",
   "execution_count": 15,
   "metadata": {},
   "outputs": [
    {
     "name": "stdout",
     "output_type": "stream",
     "text": [
      "Observed Test Statistic:  0.5535714285714286\n",
      "p-value = 0.0\n"
     ]
    },
    {
     "data": {
      "image/png": "[encoded data removed]",
      "text/plain": [
       "<Figure size 432x288 with 1 Axes>"
      ]
     },
     "metadata": {
      "needs_background": "light"
     },
     "output_type": "display_data"
    }
   ],
   "source": [
    "categorical_hypothesis_test(Embarked_C_passengers, Embarked_QS_passengers)\n",
    "_ = plt.title('Distribution of Embarked Permutation Replicates')"
   ]
  },
  {
   "cell_type": "markdown",
   "metadata": {},
   "source": [
    "<p>\n",
    "<span style=\"color:blue\">\n",
    "    Our p-value IS signficantly small, meaning the data observed under the null hypothesis is statistically significantly different from the actual/observed data. Therefore we can reject the nully hypothesis that there is no difference in survival based on embark location, and say that there IS a difference in survival based on embark location.\n",
    "    <br><br>\n",
    "    As a result, embark location is a significant feature in predicting survival.\n",
    "    </span>\n",
    "</p>"
   ]
  },
  {
   "cell_type": "markdown",
   "metadata": {},
   "source": [
    "--------------------------------------------------------------------------------------------------"
   ]
  },
  {
   "cell_type": "markdown",
   "metadata": {},
   "source": [
    "### Numerical Features Hypothesis Testing"
   ]
  },
  {
   "cell_type": "markdown",
   "metadata": {},
   "source": [
    "### Sibsp\n",
    "\n",
    "Null hypothesis: There is no difference in survival based on number of siblings/spouses --> Survivors and non-survivors have identical sibling/spouse distributions\n",
    "\n",
    "Test statistic: mean(sibsp of survivors) - mean(sibsp of non-survivors)"
   ]
  },
  {
   "cell_type": "code",
   "execution_count": 16,
   "metadata": {},
   "outputs": [
    {
     "name": "stdout",
     "output_type": "stream",
     "text": [
      "Observed Test Statistic:  -0.08004985140446746\n",
      "p-value = 0.5091\n"
     ]
    },
    {
     "data": {
      "image/png": "[encoded data removed]",
      "text/plain": [
       "<Figure size 432x288 with 1 Axes>"
      ]
     },
     "metadata": {
      "needs_background": "light"
     },
     "output_type": "display_data"
    }
   ],
   "source": [
    "numerical_hypothesis_test('SibSp', np.mean)\n",
    "_ = plt.title('Distribution of SibSp Bootstrap Replicates')"
   ]
  },
  {
   "cell_type": "markdown",
   "metadata": {},
   "source": [
    "<p>\n",
    "<span style=\"color:blue\">\n",
    "    Our p-value is not signficantly small (0.4985). If it was, we could outright say that the null hypothesis is false. However, because the p-value is not significantly small, we cannot say whether or not it is certainly true or false. (i.e. we cannot reject the null hypothesis, i.e. we cannot say for certain that there is no difference in survival based on sibsp)\n",
    "</span>\n",
    "</p>"
   ]
  },
  {
   "cell_type": "markdown",
   "metadata": {},
   "source": [
    "### Parch\n",
    "\n",
    "Null hypothesis: There is no difference in survival based on number of parents/children --> Survivors and non-survivors have identical parch distributions\n",
    "\n",
    "Test statistic: mean(parch of survivors) - mean(parch of non-survivors)"
   ]
  },
  {
   "cell_type": "code",
   "execution_count": 17,
   "metadata": {},
   "outputs": [
    {
     "name": "stdout",
     "output_type": "stream",
     "text": [
      "Observed Test Statistic:  0.13522193461796567\n",
      "p-value = 0.4985\n"
     ]
    },
    {
     "data": {
      "image/png": "[encoded data removed]",
      "text/plain": [
       "<Figure size 432x288 with 1 Axes>"
      ]
     },
     "metadata": {
      "needs_background": "light"
     },
     "output_type": "display_data"
    }
   ],
   "source": [
    "numerical_hypothesis_test('Parch', np.mean)\n",
    "_ = plt.title('Distribution of Parch Bootstrap Replicates')"
   ]
  },
  {
   "cell_type": "markdown",
   "metadata": {},
   "source": [
    "<p>\n",
    "<span style=\"color:blue\">\n",
    "    Our p-value is not signficantly small (0.499). If it was, we could outright say that the null hypothesis is false. However, because the p-value is not significantly small, we cannot say whether or not it is certainly true or false. (i.e. we cannot reject the null hypothesis, i.e. we cannot say for certain that there is no difference in survival based on parch)\n",
    "</span>\n",
    "</p>"
   ]
  },
  {
   "cell_type": "markdown",
   "metadata": {},
   "source": [
    "### Age\n",
    "\n",
    "Null hypothesis: There is no difference in survival based on age --> Survivors and non-survivors have identical age distributions\n",
    "\n",
    "Test statistic: mean(age of survivors) - mean(age of non-survivors)"
   ]
  },
  {
   "cell_type": "code",
   "execution_count": 18,
   "metadata": {},
   "outputs": [
    {
     "name": "stdout",
     "output_type": "stream",
     "text": [
      "Observed Test Statistic:  -1.8653215246408656\n",
      "p-value = 0.5018\n"
     ]
    },
    {
     "data": {
      "image/png": "[encoded data removed]",
      "text/plain": [
       "<Figure size 432x288 with 1 Axes>"
      ]
     },
     "metadata": {
      "needs_background": "light"
     },
     "output_type": "display_data"
    }
   ],
   "source": [
    "numerical_hypothesis_test('Age', np.mean)\n",
    "_ = plt.title('Distribution of Age Bootstrap Replicates')"
   ]
  },
  {
   "cell_type": "markdown",
   "metadata": {},
   "source": [
    "<p>\n",
    "<span style=\"color:blue\">\n",
    "    Our p-value is not signficantly small (0.5059). If it was, we could outright say that the null hypothesis is false. However, because the p-value is not significantly small, we cannot say whether or not it is certainly true or false. (i.e. we cannot reject the null hypothesis, i.e. we cannot say for certain that there is no difference in survival based on age)\n",
    "</span>\n",
    "</p>"
   ]
  },
  {
   "cell_type": "markdown",
   "metadata": {},
   "source": [
    "### Fare\n",
    "\n",
    "Null hypothesis: There is no difference in survival based on fare --> Survivors and non-survivors have identical fare distributions\n",
    "\n",
    "Test statistic: mean(fare of survivors) - mean(fare of non-survivors)"
   ]
  },
  {
   "cell_type": "code",
   "execution_count": 19,
   "metadata": {},
   "outputs": [
    {
     "name": "stdout",
     "output_type": "stream",
     "text": [
      "Observed Test Statistic:  26.277520717093292\n",
      "p-value = 0.4832\n"
     ]
    },
    {
     "data": {
      "image/png": "[encoded data removed]",
      "text/plain": [
       "<Figure size 432x288 with 1 Axes>"
      ]
     },
     "metadata": {
      "needs_background": "light"
     },
     "output_type": "display_data"
    }
   ],
   "source": [
    "numerical_hypothesis_test('Fare', np.mean)\n",
    "_ = plt.title('Distribution of Fare Bootstrap Replicates')"
   ]
  },
  {
   "cell_type": "markdown",
   "metadata": {},
   "source": [
    "<p>\n",
    "<span style=\"color:blue\">\n",
    "    Our p-value is not signficantly small (0.5158). If it was, we could outright say that the null hypothesis is false. However, because the p-value is not significantly small, we cannot say whether or not it is certainly true or false. (i.e. we cannot reject the null hypothesis, i.e. we cannot say for certain that there is no difference in survival based on fare)\n",
    "</span>\n",
    "</p>"
   ]
  },
  {
   "cell_type": "markdown",
   "metadata": {},
   "source": [
    "--------------------------------------------------------------------------------------------------"
   ]
  },
  {
   "cell_type": "markdown",
   "metadata": {
    "collapsed": true
   },
   "source": [
    "## Build Logistic Regression Models"
   ]
  },
  {
   "cell_type": "markdown",
   "metadata": {
    "collapsed": true
   },
   "source": [
    "### Split data into train & test"
   ]
  },
  {
   "cell_type": "code",
   "execution_count": 20,
   "metadata": {},
   "outputs": [],
   "source": [
    "from sklearn.model_selection import train_test_split\n",
    "\n",
    "y = df_origin.Survived\n",
    "X = df_origin.drop(columns='Survived')\n",
    "\n",
    "X_train, X_test, y_train, y_test = train_test_split(X, y, test_size=0.2, random_state=42)"
   ]
  },
  {
   "cell_type": "markdown",
   "metadata": {
    "collapsed": true
   },
   "source": [
    "### Build models: SVC, LogisticRegression\n",
    "(Based on Training Data)\n",
    "\n",
    "The nature of the problem inherently requires the classification of the data into two groups, passengers that survived versus passengers that didn't. As such, the problem will be solved using binary classification. Two different \n",
    "models we will play around with for binary classification are LogisticRegression and SVC, later comparing the performnance of the two."
   ]
  },
  {
   "cell_type": "markdown",
   "metadata": {
    "collapsed": true
   },
   "source": [
    "#### Build SVC Model"
   ]
  },
  {
   "cell_type": "code",
   "execution_count": 60,
   "metadata": {},
   "outputs": [
    {
     "name": "stdout",
     "output_type": "stream",
     "text": [
      "SVC Accuracy:  0.6699438202247191\n"
     ]
    }
   ],
   "source": [
    "# Build SVC Model\n",
    "from sklearn.svm import SVC # Import SVC classifier\n",
    "svm = SVC(random_state=42, probability=True) # Instantiate model\n",
    "svm.fit(X_train, y_train) # Fit model\n",
    "print(\"SVC Accuracy: \", svm.score(X_train, y_train)) # Print accuracy of model"
   ]
  },
  {
   "cell_type": "markdown",
   "metadata": {
    "collapsed": true
   },
   "source": [
    "#### Build Logistic Regression Model"
   ]
  },
  {
   "cell_type": "code",
   "execution_count": 61,
   "metadata": {},
   "outputs": [
    {
     "name": "stdout",
     "output_type": "stream",
     "text": [
      "LogisticRegression Accuracy:  0.8061797752808989\n"
     ]
    }
   ],
   "source": [
    "# Build Logistic Regression Model\n",
    "from sklearn.linear_model import LogisticRegression # Import LogisticRegression classifier\n",
    "lr = LogisticRegression(solver='newton-cg', random_state=42) # Instantiate model\n",
    "lr.fit(X_train, y_train) # Fit model\n",
    "print(\"LogisticRegression Accuracy: \", lr.score(X_train, y_train)) # Print accuracy of model"
   ]
  },
  {
   "cell_type": "markdown",
   "metadata": {},
   "source": [
    "### Evaluate the ROC and AUC of Both Models"
   ]
  },
  {
   "cell_type": "code",
   "execution_count": 62,
   "metadata": {},
   "outputs": [],
   "source": [
    "from sklearn.metrics import roc_curve\n",
    "from sklearn.metrics import roc_auc_score\n",
    "from sklearn.model_selection import cross_val_score"
   ]
  },
  {
   "cell_type": "markdown",
   "metadata": {},
   "source": [
    "#### ROC + AUC Functions"
   ]
  },
  {
   "cell_type": "code",
   "execution_count": 63,
   "metadata": {},
   "outputs": [],
   "source": [
    "# ROC\n",
    "def roc(lr_model, svm_model):\n",
    "    # Compute predicted probabilities: y_pred_prob\n",
    "    lr_y_pred_prob = lr_model.predict_proba(X_test)[:,1]\n",
    "    svm_y_pred_prob = svm_model.predict_proba(X_test)[:,1]\n",
    "\n",
    "    # Generate ROC curve values: fpr, tpr, thresholds\n",
    "    lr_fpr, lr_tpr, lr_thresholds = roc_curve(y_test, lr_y_pred_prob)\n",
    "    svm_fpr, svm_tpr, svm_thresholds = roc_curve(y_test, svm_y_pred_prob)\n",
    "\n",
    "    # Plot ROC curve\n",
    "    plt.plot(lr_fpr, lr_tpr)\n",
    "    plt.plot(svm_fpr, svm_tpr)\n",
    "    plt.legend(['LogisticRegression ROC Curve', 'SVC ROC Curve'])\n",
    "\n",
    "    plt.plot([0, 1], [0, 1], 'k--')\n",
    "    plt.xlabel('False Positive Rate')\n",
    "    plt.ylabel('True Positive Rate')\n",
    "    plt.title('ROC Curve')\n",
    "    plt.show()\n",
    "    return (lr_y_pred_prob, svm_y_pred_prob)"
   ]
  },
  {
   "cell_type": "code",
   "execution_count": 64,
   "metadata": {},
   "outputs": [],
   "source": [
    "# AUC\n",
    "def auc(lr_y_pred_prob, svm_y_pred_prob):\n",
    "    lr_auc = roc_auc_score(y_test, lr_y_pred_prob)\n",
    "    svm_auc = roc_auc_score(y_test, svm_y_pred_prob)\n",
    "    print('LogisticRegression AUC Score: ', lr_auc)\n",
    "    print('SVC AUC Score: ', svm_auc)"
   ]
  },
  {
   "cell_type": "code",
   "execution_count": 65,
   "metadata": {},
   "outputs": [],
   "source": [
    "# AUC using cross-validation\n",
    "def auc_cv(lr_model, svm_model):\n",
    "    # Pass estimator, features, target, cross-val folds, scoring='roc_auc'\n",
    "    lr_cv_scores = cross_val_score(lr_model, X, y, cv=5, scoring='roc_auc')\n",
    "    svm_cv_scores = cross_val_score(svm_model, X, y, cv=5, scoring='roc_auc')\n",
    "\n",
    "    # Print AUC list\n",
    "    print('LogisticRegression Cross-Validation AUC Scores:', lr_cv_scores)\n",
    "    print('SVC Cross-Validation AUC Scores: ', svm_cv_scores)"
   ]
  },
  {
   "cell_type": "markdown",
   "metadata": {},
   "source": [
    "#### ROC, AUC of Original Models"
   ]
  },
  {
   "cell_type": "code",
   "execution_count": 81,
   "metadata": {},
   "outputs": [
    {
     "data": {
      "image/png": "[encoded data removed]",
      "text/plain": [
       "<Figure size 432x288 with 1 Axes>"
      ]
     },
     "metadata": {
      "needs_background": "light"
     },
     "output_type": "display_data"
    },
    {
     "name": "stdout",
     "output_type": "stream",
     "text": [
      "AUC -- Original Models:\n",
      "LogisticRegression AUC Score:  0.8767052767052768\n",
      "SVC AUC Score:  0.8135135135135135\n",
      "\n",
      "Cross Validation AUC -- Original Models:\n",
      "LogisticRegression Cross-Validation AUC Scores: [0.84716733 0.82967914 0.85394385 0.83923797 0.87395293]\n",
      "SVC Cross-Validation AUC Scores:  [0.61370224 0.77272727 0.77907754 0.81102941 0.78287462]\n"
     ]
    }
   ],
   "source": [
    "lr_ypp, svm_ypp = roc(lr, svm)\n",
    "print('AUC -- Original Models:')\n",
    "auc(lr_ypp, svm_ypp)\n",
    "print('\\nCross Validation AUC -- Original Models:')\n",
    "auc_cv(lr, svm)"
   ]
  },
  {
   "cell_type": "markdown",
   "metadata": {},
   "source": [
    "<p>\n",
    "<span style=\"color:blue\">\n",
    "    After initial builds of both models, LogisticRegression clearly out performs SVC in being able to correctly predict survival. \n",
    "    <BR>Comparable statistics shown below:  \n",
    "</span>\n",
    "</p>"
   ]
  },
  {
   "cell_type": "markdown",
   "metadata": {},
   "source": [
    "|                |Logistic Regression            |SVC                          |\n",
    "|----------------|-------------------------------|-----------------------------|\n",
    "|Accuracy Score  |0.8061797752808989             |0.6699438202247191           |\n",
    "|AUC             |0.8767052767052768             |0.8135135135135135           |\n"
   ]
  },
  {
   "cell_type": "markdown",
   "metadata": {},
   "source": [
    "--------------------------------------------------------------------------------------------------"
   ]
  },
  {
   "cell_type": "markdown",
   "metadata": {
    "collapsed": true
   },
   "source": [
    "## Optimize models: Cross Validation of Regularization\n",
    "(Model built using Training Data, using this model since it has the highest confidence interval)"
   ]
  },
  {
   "cell_type": "markdown",
   "metadata": {
    "collapsed": true
   },
   "source": [
    "### Hyperparameter tuning: RandomizedSearchCV of Regularization \"C\" Variable"
   ]
  },
  {
   "cell_type": "code",
   "execution_count": 25,
   "metadata": {},
   "outputs": [
    {
     "name": "stdout",
     "output_type": "stream",
     "text": [
      "SVM: C value that performed the best:  {'C': 0.985723526987067}\n",
      "SVM: Mean cross validation score over that fold:  0.6698748043818467\n"
     ]
    }
   ],
   "source": [
    "# Larger C=less regularization\n",
    "# smaller C=more regularization --> lower training accuracy, higher test acccuracy\n",
    "from scipy.stats import randint\n",
    "\n",
    "\n",
    "# Import RandomizedSearchCV\n",
    "from sklearn.model_selection import RandomizedSearchCV\n",
    "from scipy.stats import uniform\n",
    "# Hyperparameters as a dictionary\n",
    "param_dist = {'C': uniform(0.01, 0.99)}\n",
    "# Pass our model, the dictionary to tune over, and the number of folds to use\n",
    "# Returns GridSearch object\n",
    "svm_cv = RandomizedSearchCV(svm, param_dist, cv=10)\n",
    "# Use GridSearch object to fit the data and this fit performs the actual grid search in place\n",
    "svm_cv.fit(X_train, y_train)\n",
    "# Retreive hyperparameters that perform best\n",
    "print(\"SVM: C value that performed the best: \", svm_cv.best_params_)\n",
    "# Mean cross validation score over that fold\n",
    "print(\"SVM: Mean cross validation score over that fold: \", svm_cv.best_score_)"
   ]
  },
  {
   "cell_type": "code",
   "execution_count": 26,
   "metadata": {},
   "outputs": [
    {
     "name": "stdout",
     "output_type": "stream",
     "text": [
      "LogisticRegression: C value that performed the best:  {'C': 0.0434167703730422}\n",
      "LogisticRegression: Mean cross validation score over that fold:  0.8075704225352112\n"
     ]
    }
   ],
   "source": [
    "# Import RandomizedSearchCV, uniform\n",
    "from sklearn.model_selection import RandomizedSearchCV\n",
    "from scipy.stats import uniform\n",
    "# Hyperparameters as a dictionary\n",
    "lr_param_dist = {'C': uniform(0.02, 0.04)}\n",
    "# Pass our model, the dictionary to tune over, and the number of folds to use\n",
    "# Returns RandomizedSearch object\n",
    "lr_cv = RandomizedSearchCV(lr, lr_param_dist, cv=10)\n",
    "# use RandomizedSearch object to fit the data and this fit performs the actual grid search in place\n",
    "lr_cv.fit(X_train, y_train)\n",
    "# Retreive hyperparameters that perform best\n",
    "print(\"LogisticRegression: C value that performed the best: \", lr_cv.best_params_)\n",
    "# Mean cross validation score over that fold\n",
    "print(\"LogisticRegression: Mean cross validation score over that fold: \", lr_cv.best_score_)"
   ]
  },
  {
   "cell_type": "markdown",
   "metadata": {
    "collapsed": true
   },
   "source": [
    "### Build new, optimized models with tuned regularization values"
   ]
  },
  {
   "cell_type": "markdown",
   "metadata": {
    "collapsed": true
   },
   "source": [
    "#### Build SVC Model"
   ]
  },
  {
   "cell_type": "code",
   "execution_count": 41,
   "metadata": {},
   "outputs": [
    {
     "name": "stdout",
     "output_type": "stream",
     "text": [
      "SVC Accuracy:  0.7921348314606742\n"
     ]
    }
   ],
   "source": [
    "## perform logistic regression using SVC 1385=0.792134, 100=0.79, 0.01=0.792134\n",
    "optimized_svm = SVC(C=0.01, kernel=\"linear\", random_state=42, \n",
    "                   probability=True).fit(X_train, y_train) # kernel=\"linear\" --> for coef_\n",
    "print(\"SVC Accuracy: \", optimized_svm.score(X_train, y_train)) # accuracy "
   ]
  },
  {
   "cell_type": "markdown",
   "metadata": {
    "collapsed": true
   },
   "source": [
    "#### Build LogisticRegression Model"
   ]
  },
  {
   "cell_type": "code",
   "execution_count": 42,
   "metadata": {},
   "outputs": [
    {
     "name": "stdout",
     "output_type": "stream",
     "text": [
      "LogisticRegression Accuracy:  0.8146067415730337\n"
     ]
    }
   ],
   "source": [
    "optimized_lr = LogisticRegression(C=0.03, solver='newton-cg', random_state=42).fit(X_train, y_train)\n",
    "print(\"LogisticRegression Accuracy: \", optimized_lr.score(X_train, y_train)) # accuracy \n"
   ]
  },
  {
   "cell_type": "markdown",
   "metadata": {},
   "source": [
    "--------------------------------------------------------------------------------------------------"
   ]
  },
  {
   "cell_type": "markdown",
   "metadata": {},
   "source": [
    "## Evaluate Both Models"
   ]
  },
  {
   "cell_type": "markdown",
   "metadata": {},
   "source": [
    "#### Comparing Models Based on Numbers of Predicted Survivors"
   ]
  },
  {
   "cell_type": "code",
   "execution_count": 43,
   "metadata": {},
   "outputs": [
    {
     "name": "stdout",
     "output_type": "stream",
     "text": [
      "test non-survivors: 105\n",
      "test survivors: 74\n",
      "\n",
      "linear regression non-survivors: 114\n",
      "linear regression survivors: 65\n",
      "\n",
      "svm non-survivors: 110\n",
      "svm survivors: 69\n",
      "\n",
      "linear regression score: 0.8044692737430168\n",
      "svm score: 0.7821229050279329\n"
     ]
    }
   ],
   "source": [
    "# made array of predicted survivors using the SVC model\n",
    "y_pred_svm = optimized_svm.predict(X_test)\n",
    "# made array of predicted survivors using the LogisticRegression model\n",
    "y_pred_lr = optimized_lr.predict(X_test)\n",
    "\n",
    "# find the number of survivors/non-surivors in the test set\n",
    "print(\"test non-survivors:\", np.count_nonzero(y_test==0))\n",
    "print(\"test survivors:\", np.count_nonzero(y_test==1))\n",
    "\n",
    "print('')\n",
    "# find the number of survivors/non-surivors in the linear regression set\n",
    "print(\"linear regression non-survivors:\", np.count_nonzero(y_pred_lr==0))\n",
    "print(\"linear regression survivors:\", np.count_nonzero(y_pred_lr==1))\n",
    "\n",
    "print('')\n",
    "# find the number of survivors/non-surivors in the svc set\n",
    "print(\"svm non-survivors:\", np.count_nonzero(y_pred_svm==0))\n",
    "print(\"svm survivors:\", np.count_nonzero(y_pred_svm==1))\n",
    "\n",
    "print('')\n",
    "# compare the score (accuracy) of the models when evaluated on the test set\n",
    "lr_score = optimized_lr.score(X_test, y_test)\n",
    "print(\"linear regression score:\", lr_score)\n",
    "svm_score = optimized_svm.score(X_test, y_test)\n",
    "print(\"svm score:\", svm_score)"
   ]
  },
  {
   "cell_type": "markdown",
   "metadata": {
    "collapsed": true
   },
   "source": [
    "#### ROC, AUC for Both Optimized Models"
   ]
  },
  {
   "cell_type": "code",
   "execution_count": 84,
   "metadata": {},
   "outputs": [
    {
     "data": {
      "image/png": "[encoded data removed]",
      "text/plain": [
       "<Figure size 432x288 with 1 Axes>"
      ]
     },
     "metadata": {
      "needs_background": "light"
     },
     "output_type": "display_data"
    },
    {
     "name": "stdout",
     "output_type": "stream",
     "text": [
      "AUC -- Optimized Models:\n",
      "LogisticRegression AUC Score:  0.8756756756756757\n",
      "SVC AUC Score:  0.8777348777348778\n",
      "\n",
      "Cross Validation AUC -- Optimized Models:\n",
      "LogisticRegression Cross-Validation AUC Scores: [0.83412385 0.83770053 0.83602941 0.84351604 0.87847361]\n",
      "SVC Cross-Validation AUC Scores:  [0.84347826 0.83770053 0.85086898 0.83308824 0.87275628]\n"
     ]
    }
   ],
   "source": [
    "optimized_lr_ypp, optimized_svm_ypp = roc(optimized_lr, optimized_svm)\n",
    "print('AUC -- Optimized Models:')\n",
    "auc(optimized_lr_ypp, optimized_svm_ypp)\n",
    "print('\\nCross Validation AUC -- Optimized Models:')\n",
    "auc_cv(optimized_lr, optimized_svm)"
   ]
  },
  {
   "cell_type": "markdown",
   "metadata": {},
   "source": [
    "<p>\n",
    "<span style=\"color:blue\">\n",
    "    After optimizing both models, both LogisticRegression and SVC now are able to predict survival with similar accuracies. LogisticRegression's AUC has remained the same, at about 87-88%; while SVC has significantly improved from ~81% to 87-88%. \n",
    "</span>\n",
    "</p>"
   ]
  },
  {
   "cell_type": "markdown",
   "metadata": {},
   "source": [
    "|                |Logistic Regression            |SVC                          |\n",
    "|----------------|-------------------------------|-----------------------------|\n",
    "|Accuracy Score  |0.8061797752808989             |0.6699438202247191           |\n",
    "\n",
    "\n",
    "\n",
    "|                |Logistic Regression            |SVC                          |\n",
    "|----------------|-------------------------------|-----------------------------|\n",
    "|Accuracy Score  |0.8061797752808989             |0.6699438202247191           |\n",
    "|AUC             |0.8767052767052768             |0.8135135135135135           |"
   ]
  },
  {
   "cell_type": "markdown",
   "metadata": {},
   "source": [
    "--------------------------------------------------------------------------------------------------"
   ]
  },
  {
   "cell_type": "markdown",
   "metadata": {
    "collapsed": true
   },
   "source": [
    "## Investigating important features"
   ]
  },
  {
   "cell_type": "markdown",
   "metadata": {},
   "source": [
    "### Logistic Regression"
   ]
  },
  {
   "cell_type": "code",
   "execution_count": 32,
   "metadata": {},
   "outputs": [
    {
     "data": {
      "text/plain": [
       "array([[0.02041673, 0.21655769, 0.04913494, 0.00853254, 0.25026786,\n",
       "        0.18889626, 0.43916329, 0.78989028, 0.78988945, 0.11830947,\n",
       "        0.02134598, 0.15503516]])"
      ]
     },
     "execution_count": 32,
     "metadata": {},
     "output_type": "execute_result"
    }
   ],
   "source": [
    "# absolute value of the linear regression coef_ values\n",
    "# each value is representative of one of the features in the dataset\n",
    "# higher values have a higher impact on survival\n",
    "abs(optimized_lr.coef_)"
   ]
  },
  {
   "cell_type": "code",
   "execution_count": 33,
   "metadata": {},
   "outputs": [
    {
     "data": {
      "image/png": "[encoded data removed]",
      "text/plain": [
       "<Figure size 432x288 with 1 Axes>"
      ]
     },
     "metadata": {
      "needs_background": "light"
     },
     "output_type": "display_data"
    }
   ],
   "source": [
    "# values further right mean they are more impactful for survival\n",
    "# values further right mean they are more impactful for death\n",
    "# values in the center are less impactful\n",
    "plt.title('Logistic Regression coef_ graph')\n",
    "plt.plot(optimized_lr.coef_.flatten(), df_origin.columns[1:], 'o')\n",
    "plt.grid()"
   ]
  },
  {
   "cell_type": "code",
   "execution_count": 34,
   "metadata": {},
   "outputs": [
    {
     "data": {
      "image/png": "[encoded data removed]",
      "text/plain": [
       "<Figure size 432x288 with 1 Axes>"
      ]
     },
     "metadata": {
      "needs_background": "light"
     },
     "output_type": "display_data"
    }
   ],
   "source": [
    "# absolute value of coef_ graph\n",
    "# values further right had a higher impact in the model in general\n",
    "plt.title('Logistic Regression coef_ absolute value graph')\n",
    "plt.plot(abs(optimized_lr.coef_.flatten()), df_origin.columns[1:], 'o')\n",
    "plt.grid()"
   ]
  },
  {
   "cell_type": "markdown",
   "metadata": {},
   "source": [
    "### SVC"
   ]
  },
  {
   "cell_type": "code",
   "execution_count": 35,
   "metadata": {},
   "outputs": [
    {
     "data": {
      "text/plain": [
       "array([[0.00697048, 0.11000203, 0.03258933, 0.00367389, 0.06189453,\n",
       "        0.05738756, 0.11928209, 0.80340752, 0.80340752, 0.01939272,\n",
       "        0.01745941, 0.05685213]])"
      ]
     },
     "execution_count": 35,
     "metadata": {},
     "output_type": "execute_result"
    }
   ],
   "source": [
    "# absolute value of the svc coef_ values\n",
    "# each value is representative of one of the features in the dataset\n",
    "# higher values have a higher impact on survival\n",
    "abs(optimized_svm.coef_)"
   ]
  },
  {
   "cell_type": "code",
   "execution_count": 36,
   "metadata": {},
   "outputs": [
    {
     "data": {
      "image/png": "[encoded data removed]",
      "text/plain": [
       "<Figure size 432x288 with 1 Axes>"
      ]
     },
     "metadata": {
      "needs_background": "light"
     },
     "output_type": "display_data"
    }
   ],
   "source": [
    "# farther right means more impactful for survival\n",
    "# farther left means more impactful for death\n",
    "# in the middle means less impactful overall\n",
    "plt.title('SVC coef_ graph')\n",
    "plt.plot(optimized_svm.coef_.flatten(), df_origin.columns[1:], 'o')\n",
    "plt.grid()"
   ]
  },
  {
   "cell_type": "code",
   "execution_count": 37,
   "metadata": {
    "scrolled": true
   },
   "outputs": [
    {
     "data": {
      "image/png": "[encoded data removed]",
      "text/plain": [
       "<Figure size 432x288 with 1 Axes>"
      ]
     },
     "metadata": {
      "needs_background": "light"
     },
     "output_type": "display_data"
    }
   ],
   "source": [
    "# absolute value of coef_ graph\n",
    "# values further right had a higher impact in the model in general\n",
    "plt.title('SVC coef_ absolute value graph')\n",
    "plt.plot(abs(optimized_svm.coef_.flatten()), df_origin.columns[1:], 'o')\n",
    "plt.grid()"
   ]
  },
  {
   "cell_type": "markdown",
   "metadata": {},
   "source": [
    "### LogisticRegression & SVC Absolute Value Plots Side by Side"
   ]
  },
  {
   "cell_type": "code",
   "execution_count": 159,
   "metadata": {},
   "outputs": [
    {
     "data": {
      "image/png": "[encoded data removed]",
      "text/plain": [
       "<Figure size 1080x360 with 2 Axes>"
      ]
     },
     "metadata": {
      "needs_background": "light"
     },
     "output_type": "display_data"
    }
   ],
   "source": [
    "fig, (ax1, ax2) = plt.subplots(1, 2, figsize=(15, 5))\n",
    "fig.suptitle('Absolute Value coef_ Plots')\n",
    "ax1.plot(abs(optimized_lr.coef_.flatten()), df_origin.columns[1:], 'o')\n",
    "ax2.plot(abs(optimized_svm.coef_.flatten()), df_origin.columns[1:], 'o')\n",
    "ax1.title.set_text('Logistic Regression coef_ Absolute Value Graph')\n",
    "ax2.title.set_text('SVC coef_ Absolute Value Graph')\n",
    "fig.tight_layout()\n",
    "ax1.grid()\n",
    "ax2.grid()\n",
    "plt.show()"
   ]
  },
  {
   "cell_type": "markdown",
   "metadata": {},
   "source": [
    "sgd classifier, does have coef_\n",
    "- use svm or logreg using smae underlying scikit learn class, change loss function\n",
    "- loss = hinge, same as svc --> faster "
   ]
  }
 ],
 "metadata": {
  "kernelspec": {
   "display_name": "introds",
   "language": "python",
   "name": "introds"
  },
  "language_info": {
   "codemirror_mode": {
    "name": "ipython",
    "version": 3
   },
   "file_extension": ".py",
   "mimetype": "text/x-python",
   "name": "python",
   "nbconvert_exporter": "python",
   "pygments_lexer": "ipython3",
   "version": "3.9.7"
  }
 },
 "nbformat": 4,
 "nbformat_minor": 1
}
