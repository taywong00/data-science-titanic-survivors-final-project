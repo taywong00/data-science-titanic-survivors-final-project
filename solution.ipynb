{
 "cells": [
  {
   "cell_type": "markdown",
   "metadata": {},
   "source": [
    "# CS-UY 3943 - Introduction of Data Science\n",
    "## Final Project: Tweet Sentiment Extraction"
   ]
  },
  {
   "cell_type": "markdown",
   "metadata": {},
   "source": [
    "Please edit the cell below to add your name, NetID, assigned group, and group members for this assignment. **Complete this section before proceeding to the assignment questions.**"
   ]
  },
  {
   "cell_type": "markdown",
   "metadata": {},
   "source": [
    "Name:  Taylor Wong\n",
    "NetID:  tw1835\n",
    "Group Member 1:  Thomas Scarola\n",
    "NetID:  tws285\n",
    "***"
   ]
  },
  {
   "cell_type": "markdown",
   "metadata": {
    "collapsed": true
   },
   "source": [
    "# Preliminary Data Analysis"
   ]
  },
  {
   "cell_type": "markdown",
   "metadata": {},
   "source": [
    "#### Include 1 or 2 plots or data tables that demonstrate initial EDA efforts\n"
   ]
  },
  {
   "cell_type": "markdown",
   "metadata": {},
   "source": [
    "1\\. Read the data file `train.csv` into your program as a `pandas` `DataFrame`"
   ]
  },
  {
   "cell_type": "code",
   "execution_count": 1,
   "metadata": {
    "scrolled": false
   },
   "outputs": [
    {
     "data": {
      "text/html": [
       "<div>\n",
       "<style scoped>\n",
       "    .dataframe tbody tr th:only-of-type {\n",
       "        vertical-align: middle;\n",
       "    }\n",
       "\n",
       "    .dataframe tbody tr th {\n",
       "        vertical-align: top;\n",
       "    }\n",
       "\n",
       "    .dataframe thead th {\n",
       "        text-align: right;\n",
       "    }\n",
       "</style>\n",
       "<table border=\"1\" class=\"dataframe\">\n",
       "  <thead>\n",
       "    <tr style=\"text-align: right;\">\n",
       "      <th></th>\n",
       "      <th>Survived</th>\n",
       "      <th>Pclass</th>\n",
       "      <th>Sex</th>\n",
       "      <th>Age</th>\n",
       "      <th>SibSp</th>\n",
       "      <th>Parch</th>\n",
       "      <th>Fare</th>\n",
       "      <th>Embarked</th>\n",
       "    </tr>\n",
       "  </thead>\n",
       "  <tbody>\n",
       "    <tr>\n",
       "      <th>0</th>\n",
       "      <td>0</td>\n",
       "      <td>3</td>\n",
       "      <td>male</td>\n",
       "      <td>22.0</td>\n",
       "      <td>1</td>\n",
       "      <td>0</td>\n",
       "      <td>7.2500</td>\n",
       "      <td>S</td>\n",
       "    </tr>\n",
       "    <tr>\n",
       "      <th>1</th>\n",
       "      <td>1</td>\n",
       "      <td>1</td>\n",
       "      <td>female</td>\n",
       "      <td>38.0</td>\n",
       "      <td>1</td>\n",
       "      <td>0</td>\n",
       "      <td>71.2833</td>\n",
       "      <td>C</td>\n",
       "    </tr>\n",
       "    <tr>\n",
       "      <th>2</th>\n",
       "      <td>1</td>\n",
       "      <td>3</td>\n",
       "      <td>female</td>\n",
       "      <td>26.0</td>\n",
       "      <td>0</td>\n",
       "      <td>0</td>\n",
       "      <td>7.9250</td>\n",
       "      <td>S</td>\n",
       "    </tr>\n",
       "    <tr>\n",
       "      <th>3</th>\n",
       "      <td>1</td>\n",
       "      <td>1</td>\n",
       "      <td>female</td>\n",
       "      <td>35.0</td>\n",
       "      <td>1</td>\n",
       "      <td>0</td>\n",
       "      <td>53.1000</td>\n",
       "      <td>S</td>\n",
       "    </tr>\n",
       "    <tr>\n",
       "      <th>4</th>\n",
       "      <td>0</td>\n",
       "      <td>3</td>\n",
       "      <td>male</td>\n",
       "      <td>35.0</td>\n",
       "      <td>0</td>\n",
       "      <td>0</td>\n",
       "      <td>8.0500</td>\n",
       "      <td>S</td>\n",
       "    </tr>\n",
       "    <tr>\n",
       "      <th>5</th>\n",
       "      <td>0</td>\n",
       "      <td>3</td>\n",
       "      <td>male</td>\n",
       "      <td>NaN</td>\n",
       "      <td>0</td>\n",
       "      <td>0</td>\n",
       "      <td>8.4583</td>\n",
       "      <td>Q</td>\n",
       "    </tr>\n",
       "    <tr>\n",
       "      <th>6</th>\n",
       "      <td>0</td>\n",
       "      <td>1</td>\n",
       "      <td>male</td>\n",
       "      <td>54.0</td>\n",
       "      <td>0</td>\n",
       "      <td>0</td>\n",
       "      <td>51.8625</td>\n",
       "      <td>S</td>\n",
       "    </tr>\n",
       "    <tr>\n",
       "      <th>7</th>\n",
       "      <td>0</td>\n",
       "      <td>3</td>\n",
       "      <td>male</td>\n",
       "      <td>2.0</td>\n",
       "      <td>3</td>\n",
       "      <td>1</td>\n",
       "      <td>21.0750</td>\n",
       "      <td>S</td>\n",
       "    </tr>\n",
       "    <tr>\n",
       "      <th>8</th>\n",
       "      <td>1</td>\n",
       "      <td>3</td>\n",
       "      <td>female</td>\n",
       "      <td>27.0</td>\n",
       "      <td>0</td>\n",
       "      <td>2</td>\n",
       "      <td>11.1333</td>\n",
       "      <td>S</td>\n",
       "    </tr>\n",
       "    <tr>\n",
       "      <th>9</th>\n",
       "      <td>1</td>\n",
       "      <td>2</td>\n",
       "      <td>female</td>\n",
       "      <td>14.0</td>\n",
       "      <td>1</td>\n",
       "      <td>0</td>\n",
       "      <td>30.0708</td>\n",
       "      <td>C</td>\n",
       "    </tr>\n",
       "  </tbody>\n",
       "</table>\n",
       "</div>"
      ],
      "text/plain": [
       "   Survived  Pclass     Sex   Age  SibSp  Parch     Fare Embarked\n",
       "0         0       3    male  22.0      1      0   7.2500        S\n",
       "1         1       1  female  38.0      1      0  71.2833        C\n",
       "2         1       3  female  26.0      0      0   7.9250        S\n",
       "3         1       1  female  35.0      1      0  53.1000        S\n",
       "4         0       3    male  35.0      0      0   8.0500        S\n",
       "5         0       3    male   NaN      0      0   8.4583        Q\n",
       "6         0       1    male  54.0      0      0  51.8625        S\n",
       "7         0       3    male   2.0      3      1  21.0750        S\n",
       "8         1       3  female  27.0      0      2  11.1333        S\n",
       "9         1       2  female  14.0      1      0  30.0708        C"
      ]
     },
     "execution_count": 1,
     "metadata": {},
     "output_type": "execute_result"
    }
   ],
   "source": [
    "#Place your code here\n",
    "import pandas as pd\n",
    "import numpy as np\n",
    "import seaborn as sns\n",
    "import matplotlib.pyplot as plt\n",
    "%matplotlib inline\n",
    "\n",
    "df = pd.read_csv('train.csv')\n",
    "\n",
    "# dropping ticket, cabin, name -- missing a lot of data, dont contribute much\n",
    "# cabin -- captured in pclass and fare\n",
    "# ticket -- each unique \n",
    "# name -- each unique\n",
    "df = df.drop(labels=['PassengerId', 'Name', 'Ticket', 'Cabin'], axis=1)\n",
    "\n",
    "df.head(10).sort_values('Survived')\n",
    "\n",
    "df.head(10)"
   ]
  },
  {
   "cell_type": "markdown",
   "metadata": {},
   "source": [
    "<hr />"
   ]
  },
  {
   "cell_type": "markdown",
   "metadata": {},
   "source": [
    "2a. Graphical EDA: Categorical Features -- Display the different percentages of each feature in the total data (What percentage of each feature survived? What percentage did not?)\n",
    "\n",
    "Pclass, Sex, SibSp, Parch, Embarked (Note: including SibSp, Parch since they have a small range)\n"
   ]
  },
  {
   "cell_type": "code",
   "execution_count": 2,
   "metadata": {},
   "outputs": [
    {
     "data": {
      "text/plain": [
       "Text(0.5, 1.01, 'Percentage of Surivors by Embarking Destination')"
      ]
     },
     "execution_count": 2,
     "metadata": {},
     "output_type": "execute_result"
    },
    {
     "data": {
      "image/png": "[encoded data removed]",
      "text/plain": [
       "<Figure size 360x360 with 1 Axes>"
      ]
     },
     "metadata": {
      "needs_background": "light"
     },
     "output_type": "display_data"
    },
    {
     "data": {
      "image/png": "[encoded data removed]",
      "text/plain": [
       "<Figure size 360x360 with 1 Axes>"
      ]
     },
     "metadata": {
      "needs_background": "light"
     },
     "output_type": "display_data"
    },
    {
     "data": {
      "image/png": "[encoded data removed]",
      "text/plain": [
       "<Figure size 360x360 with 1 Axes>"
      ]
     },
     "metadata": {
      "needs_background": "light"
     },
     "output_type": "display_data"
    },
    {
     "data": {
      "image/png": "[encoded data removed]",
      "text/plain": [
       "<Figure size 360x360 with 1 Axes>"
      ]
     },
     "metadata": {
      "needs_background": "light"
     },
     "output_type": "display_data"
    },
    {
     "data": {
      "image/png": "[encoded data removed]",
      "text/plain": [
       "<Figure size 360x360 with 1 Axes>"
      ]
     },
     "metadata": {
      "needs_background": "light"
     },
     "output_type": "display_data"
    }
   ],
   "source": [
    "# categorical data EDA (Pclass, Sex, SibSp, Parch, Embarked)\n",
    "\n",
    "# plot the percentage of people that survived based on class\n",
    "class_plot = sns.catplot(data=df, x='Pclass', y='Survived', kind='bar', margin_titles=True)\n",
    "class_plot.fig.suptitle('Percentage of Surivors by Class', y=1.01)\n",
    "\n",
    "# plot the percentage of people that survived based on gender\n",
    "sex_plot = sns.catplot(data=df, x='Sex', y='Survived', kind='bar', margin_titles=True)\n",
    "sex_plot.fig.suptitle('Percentage of Surivors by Sex', y=1.01)\n",
    "\n",
    "# plot the percentage of people that survived based on the number of siblings or spouses they had\n",
    "sibsp_plot = sns.catplot(data=df, x='SibSp', y='Survived', kind='bar', margin_titles=True)\n",
    "sibsp_plot.fig.suptitle('Percentage of Surivors by Amount of Siblings and Spouses Aboard', y=1.01)\n",
    "\n",
    "# plot the percentage of people that survived based on the number of parents or children they had\n",
    "parch_plot = sns.catplot(data=df, x='Parch', y='Survived', kind='bar', margin_titles=True)\n",
    "parch_plot.fig.suptitle('Percentage of Surivors by Parents and Children Aboard', y=1.01)\n",
    "\n",
    "# plot the percentage of people that survived based on where they embarked from \n",
    "embarked_plot = sns.catplot(data=df, x='Embarked', y='Survived', kind='bar', margin_titles=True)\n",
    "embarked_plot.fig.suptitle('Percentage of Surivors by Embarking Destination', y=1.01)\n"
   ]
  },
  {
   "cell_type": "markdown",
   "metadata": {},
   "source": [
    "2b. Graphical EDA: For continuous variables (Age, Fare), plot distributions of survival --> ECDF\n",
    "\n"
   ]
  },
  {
   "cell_type": "code",
   "execution_count": 3,
   "metadata": {},
   "outputs": [
    {
     "data": {
      "text/plain": [
       "Text(0.5, 1.01, 'Distribution of Surivors by Fare')"
      ]
     },
     "execution_count": 3,
     "metadata": {},
     "output_type": "execute_result"
    },
    {
     "data": {
      "image/png": "[encoded data removed]",
      "text/plain": [
       "<Figure size 360x720 with 2 Axes>"
      ]
     },
     "metadata": {
      "needs_background": "light"
     },
     "output_type": "display_data"
    },
    {
     "data": {
      "image/png": "[encoded data removed]",
      "text/plain": [
       "<Figure size 360x720 with 2 Axes>"
      ]
     },
     "metadata": {
      "needs_background": "light"
     },
     "output_type": "display_data"
    }
   ],
   "source": [
    "# continuous data EDA (Age, Fare) \n",
    "# plot the distribution of people that survived based on their ages\n",
    "age_plot = sns.displot(data=df, x='Age', kind='hist', row='Survived', palette='bright')\n",
    "age_plot.fig.suptitle('Distribution of Surivors by Age', y=1.01)\n",
    "\n",
    "fare_plot = sns.displot(data=df, x='Fare', kind='hist', row='Survived', palette='bright')\n",
    "fare_plot.fig.suptitle('Distribution of Surivors by Fare', y=1.01)\n"
   ]
  },
  {
   "cell_type": "markdown",
   "metadata": {},
   "source": [
    "Quantitative EDA -- Summary Statistics (mean, median, std)\n",
    "https://campus.datacamp.com/courses/statistical-thinking-in-python-part-2/introduction-to-hypothesis-testing?ex=1"
   ]
  },
  {
   "cell_type": "markdown",
   "metadata": {},
   "source": [
    "#### Brief discussion of what EDA has revealed about the data"
   ]
  },
  {
   "cell_type": "markdown",
   "metadata": {},
   "source": [
    "<p>\n",
    "<span style=\"color:blue\">\n",
    "    <b>IGNORE!</b>\n",
    "    <br>\n",
    "    Most influential in determining survival: gender, socio-economic class (Pclass), fare:\n",
    "    <br><br>\n",
    "    1. Gender: women \n",
    "    <br>\n",
    "    2. Pclass: upper class (=1, middle=2, lower=3; negative correlation)\n",
    "    <br>\n",
    "    3. Fare: those who bought more expensive tickets (related to Pclass; rooms on higher decks)\n",
    "    <br>\n",
    "    About 70% of the survivors were female\n",
    "    <br>\n",
    "    A vast majority of the people who did not survive were in the lower class, and between the ages of 20 to 30\n",
    "</span>\n",
    "</p>"
   ]
  },
  {
   "cell_type": "markdown",
   "metadata": {
    "collapsed": true
   },
   "source": [
    "# Acutal Data Analysis"
   ]
  },
  {
   "cell_type": "markdown",
   "metadata": {
    "collapsed": true
   },
   "source": [
    "## Preprocessing"
   ]
  },
  {
   "cell_type": "markdown",
   "metadata": {},
   "source": [
    "Converting categorical data to dummies (aka making them into individual columns)"
   ]
  },
  {
   "cell_type": "code",
   "execution_count": 4,
   "metadata": {},
   "outputs": [
    {
     "data": {
      "text/html": [
       "<div>\n",
       "<style scoped>\n",
       "    .dataframe tbody tr th:only-of-type {\n",
       "        vertical-align: middle;\n",
       "    }\n",
       "\n",
       "    .dataframe tbody tr th {\n",
       "        vertical-align: top;\n",
       "    }\n",
       "\n",
       "    .dataframe thead th {\n",
       "        text-align: right;\n",
       "    }\n",
       "</style>\n",
       "<table border=\"1\" class=\"dataframe\">\n",
       "  <thead>\n",
       "    <tr style=\"text-align: right;\">\n",
       "      <th></th>\n",
       "      <th>Survived</th>\n",
       "      <th>Age</th>\n",
       "      <th>SibSp</th>\n",
       "      <th>Parch</th>\n",
       "      <th>Fare</th>\n",
       "      <th>Pclass_1</th>\n",
       "      <th>Pclass_2</th>\n",
       "      <th>Pclass_3</th>\n",
       "      <th>Sex_female</th>\n",
       "      <th>Sex_male</th>\n",
       "      <th>Embarked_C</th>\n",
       "      <th>Embarked_Q</th>\n",
       "      <th>Embarked_S</th>\n",
       "    </tr>\n",
       "  </thead>\n",
       "  <tbody>\n",
       "    <tr>\n",
       "      <th>0</th>\n",
       "      <td>0</td>\n",
       "      <td>22.0</td>\n",
       "      <td>1</td>\n",
       "      <td>0</td>\n",
       "      <td>7.2500</td>\n",
       "      <td>0</td>\n",
       "      <td>0</td>\n",
       "      <td>1</td>\n",
       "      <td>0</td>\n",
       "      <td>1</td>\n",
       "      <td>0</td>\n",
       "      <td>0</td>\n",
       "      <td>1</td>\n",
       "    </tr>\n",
       "    <tr>\n",
       "      <th>1</th>\n",
       "      <td>1</td>\n",
       "      <td>38.0</td>\n",
       "      <td>1</td>\n",
       "      <td>0</td>\n",
       "      <td>71.2833</td>\n",
       "      <td>1</td>\n",
       "      <td>0</td>\n",
       "      <td>0</td>\n",
       "      <td>1</td>\n",
       "      <td>0</td>\n",
       "      <td>1</td>\n",
       "      <td>0</td>\n",
       "      <td>0</td>\n",
       "    </tr>\n",
       "    <tr>\n",
       "      <th>2</th>\n",
       "      <td>1</td>\n",
       "      <td>26.0</td>\n",
       "      <td>0</td>\n",
       "      <td>0</td>\n",
       "      <td>7.9250</td>\n",
       "      <td>0</td>\n",
       "      <td>0</td>\n",
       "      <td>1</td>\n",
       "      <td>1</td>\n",
       "      <td>0</td>\n",
       "      <td>0</td>\n",
       "      <td>0</td>\n",
       "      <td>1</td>\n",
       "    </tr>\n",
       "    <tr>\n",
       "      <th>3</th>\n",
       "      <td>1</td>\n",
       "      <td>35.0</td>\n",
       "      <td>1</td>\n",
       "      <td>0</td>\n",
       "      <td>53.1000</td>\n",
       "      <td>1</td>\n",
       "      <td>0</td>\n",
       "      <td>0</td>\n",
       "      <td>1</td>\n",
       "      <td>0</td>\n",
       "      <td>0</td>\n",
       "      <td>0</td>\n",
       "      <td>1</td>\n",
       "    </tr>\n",
       "    <tr>\n",
       "      <th>4</th>\n",
       "      <td>0</td>\n",
       "      <td>35.0</td>\n",
       "      <td>0</td>\n",
       "      <td>0</td>\n",
       "      <td>8.0500</td>\n",
       "      <td>0</td>\n",
       "      <td>0</td>\n",
       "      <td>1</td>\n",
       "      <td>0</td>\n",
       "      <td>1</td>\n",
       "      <td>0</td>\n",
       "      <td>0</td>\n",
       "      <td>1</td>\n",
       "    </tr>\n",
       "    <tr>\n",
       "      <th>...</th>\n",
       "      <td>...</td>\n",
       "      <td>...</td>\n",
       "      <td>...</td>\n",
       "      <td>...</td>\n",
       "      <td>...</td>\n",
       "      <td>...</td>\n",
       "      <td>...</td>\n",
       "      <td>...</td>\n",
       "      <td>...</td>\n",
       "      <td>...</td>\n",
       "      <td>...</td>\n",
       "      <td>...</td>\n",
       "      <td>...</td>\n",
       "    </tr>\n",
       "    <tr>\n",
       "      <th>886</th>\n",
       "      <td>0</td>\n",
       "      <td>27.0</td>\n",
       "      <td>0</td>\n",
       "      <td>0</td>\n",
       "      <td>13.0000</td>\n",
       "      <td>0</td>\n",
       "      <td>1</td>\n",
       "      <td>0</td>\n",
       "      <td>0</td>\n",
       "      <td>1</td>\n",
       "      <td>0</td>\n",
       "      <td>0</td>\n",
       "      <td>1</td>\n",
       "    </tr>\n",
       "    <tr>\n",
       "      <th>887</th>\n",
       "      <td>1</td>\n",
       "      <td>19.0</td>\n",
       "      <td>0</td>\n",
       "      <td>0</td>\n",
       "      <td>30.0000</td>\n",
       "      <td>1</td>\n",
       "      <td>0</td>\n",
       "      <td>0</td>\n",
       "      <td>1</td>\n",
       "      <td>0</td>\n",
       "      <td>0</td>\n",
       "      <td>0</td>\n",
       "      <td>1</td>\n",
       "    </tr>\n",
       "    <tr>\n",
       "      <th>888</th>\n",
       "      <td>0</td>\n",
       "      <td>NaN</td>\n",
       "      <td>1</td>\n",
       "      <td>2</td>\n",
       "      <td>23.4500</td>\n",
       "      <td>0</td>\n",
       "      <td>0</td>\n",
       "      <td>1</td>\n",
       "      <td>1</td>\n",
       "      <td>0</td>\n",
       "      <td>0</td>\n",
       "      <td>0</td>\n",
       "      <td>1</td>\n",
       "    </tr>\n",
       "    <tr>\n",
       "      <th>889</th>\n",
       "      <td>1</td>\n",
       "      <td>26.0</td>\n",
       "      <td>0</td>\n",
       "      <td>0</td>\n",
       "      <td>30.0000</td>\n",
       "      <td>1</td>\n",
       "      <td>0</td>\n",
       "      <td>0</td>\n",
       "      <td>0</td>\n",
       "      <td>1</td>\n",
       "      <td>1</td>\n",
       "      <td>0</td>\n",
       "      <td>0</td>\n",
       "    </tr>\n",
       "    <tr>\n",
       "      <th>890</th>\n",
       "      <td>0</td>\n",
       "      <td>32.0</td>\n",
       "      <td>0</td>\n",
       "      <td>0</td>\n",
       "      <td>7.7500</td>\n",
       "      <td>0</td>\n",
       "      <td>0</td>\n",
       "      <td>1</td>\n",
       "      <td>0</td>\n",
       "      <td>1</td>\n",
       "      <td>0</td>\n",
       "      <td>1</td>\n",
       "      <td>0</td>\n",
       "    </tr>\n",
       "  </tbody>\n",
       "</table>\n",
       "<p>891 rows × 13 columns</p>\n",
       "</div>"
      ],
      "text/plain": [
       "     Survived   Age  SibSp  Parch     Fare  Pclass_1  Pclass_2  Pclass_3  \\\n",
       "0           0  22.0      1      0   7.2500         0         0         1   \n",
       "1           1  38.0      1      0  71.2833         1         0         0   \n",
       "2           1  26.0      0      0   7.9250         0         0         1   \n",
       "3           1  35.0      1      0  53.1000         1         0         0   \n",
       "4           0  35.0      0      0   8.0500         0         0         1   \n",
       "..        ...   ...    ...    ...      ...       ...       ...       ...   \n",
       "886         0  27.0      0      0  13.0000         0         1         0   \n",
       "887         1  19.0      0      0  30.0000         1         0         0   \n",
       "888         0   NaN      1      2  23.4500         0         0         1   \n",
       "889         1  26.0      0      0  30.0000         1         0         0   \n",
       "890         0  32.0      0      0   7.7500         0         0         1   \n",
       "\n",
       "     Sex_female  Sex_male  Embarked_C  Embarked_Q  Embarked_S  \n",
       "0             0         1           0           0           1  \n",
       "1             1         0           1           0           0  \n",
       "2             1         0           0           0           1  \n",
       "3             1         0           0           0           1  \n",
       "4             0         1           0           0           1  \n",
       "..          ...       ...         ...         ...         ...  \n",
       "886           0         1           0           0           1  \n",
       "887           1         0           0           0           1  \n",
       "888           1         0           0           0           1  \n",
       "889           0         1           1           0           0  \n",
       "890           0         1           0           1           0  \n",
       "\n",
       "[891 rows x 13 columns]"
      ]
     },
     "execution_count": 4,
     "metadata": {},
     "output_type": "execute_result"
    }
   ],
   "source": [
    "# convert categorical data to dummies, including Pclass (since its actually categorical, represented by numbers)\n",
    "df_origin = df\n",
    "df_origin['Pclass'] = pd.Categorical(df_origin.Pclass)\n",
    "df_origin = pd.get_dummies(df_origin)\n",
    "df_origin"
   ]
  },
  {
   "cell_type": "markdown",
   "metadata": {},
   "source": [
    "Fill in missing age data with the average age"
   ]
  },
  {
   "cell_type": "code",
   "execution_count": 5,
   "metadata": {
    "scrolled": true
   },
   "outputs": [
    {
     "data": {
      "text/html": [
       "<div>\n",
       "<style scoped>\n",
       "    .dataframe tbody tr th:only-of-type {\n",
       "        vertical-align: middle;\n",
       "    }\n",
       "\n",
       "    .dataframe tbody tr th {\n",
       "        vertical-align: top;\n",
       "    }\n",
       "\n",
       "    .dataframe thead th {\n",
       "        text-align: right;\n",
       "    }\n",
       "</style>\n",
       "<table border=\"1\" class=\"dataframe\">\n",
       "  <thead>\n",
       "    <tr style=\"text-align: right;\">\n",
       "      <th></th>\n",
       "      <th>Survived</th>\n",
       "      <th>Age</th>\n",
       "      <th>SibSp</th>\n",
       "      <th>Parch</th>\n",
       "      <th>Fare</th>\n",
       "      <th>Pclass_1</th>\n",
       "      <th>Pclass_2</th>\n",
       "      <th>Pclass_3</th>\n",
       "      <th>Sex_female</th>\n",
       "      <th>Sex_male</th>\n",
       "      <th>Embarked_C</th>\n",
       "      <th>Embarked_Q</th>\n",
       "      <th>Embarked_S</th>\n",
       "    </tr>\n",
       "  </thead>\n",
       "  <tbody>\n",
       "    <tr>\n",
       "      <th>0</th>\n",
       "      <td>0</td>\n",
       "      <td>22.000000</td>\n",
       "      <td>1</td>\n",
       "      <td>0</td>\n",
       "      <td>7.2500</td>\n",
       "      <td>0</td>\n",
       "      <td>0</td>\n",
       "      <td>1</td>\n",
       "      <td>0</td>\n",
       "      <td>1</td>\n",
       "      <td>0</td>\n",
       "      <td>0</td>\n",
       "      <td>1</td>\n",
       "    </tr>\n",
       "    <tr>\n",
       "      <th>1</th>\n",
       "      <td>1</td>\n",
       "      <td>38.000000</td>\n",
       "      <td>1</td>\n",
       "      <td>0</td>\n",
       "      <td>71.2833</td>\n",
       "      <td>1</td>\n",
       "      <td>0</td>\n",
       "      <td>0</td>\n",
       "      <td>1</td>\n",
       "      <td>0</td>\n",
       "      <td>1</td>\n",
       "      <td>0</td>\n",
       "      <td>0</td>\n",
       "    </tr>\n",
       "    <tr>\n",
       "      <th>2</th>\n",
       "      <td>1</td>\n",
       "      <td>26.000000</td>\n",
       "      <td>0</td>\n",
       "      <td>0</td>\n",
       "      <td>7.9250</td>\n",
       "      <td>0</td>\n",
       "      <td>0</td>\n",
       "      <td>1</td>\n",
       "      <td>1</td>\n",
       "      <td>0</td>\n",
       "      <td>0</td>\n",
       "      <td>0</td>\n",
       "      <td>1</td>\n",
       "    </tr>\n",
       "    <tr>\n",
       "      <th>3</th>\n",
       "      <td>1</td>\n",
       "      <td>35.000000</td>\n",
       "      <td>1</td>\n",
       "      <td>0</td>\n",
       "      <td>53.1000</td>\n",
       "      <td>1</td>\n",
       "      <td>0</td>\n",
       "      <td>0</td>\n",
       "      <td>1</td>\n",
       "      <td>0</td>\n",
       "      <td>0</td>\n",
       "      <td>0</td>\n",
       "      <td>1</td>\n",
       "    </tr>\n",
       "    <tr>\n",
       "      <th>4</th>\n",
       "      <td>0</td>\n",
       "      <td>35.000000</td>\n",
       "      <td>0</td>\n",
       "      <td>0</td>\n",
       "      <td>8.0500</td>\n",
       "      <td>0</td>\n",
       "      <td>0</td>\n",
       "      <td>1</td>\n",
       "      <td>0</td>\n",
       "      <td>1</td>\n",
       "      <td>0</td>\n",
       "      <td>0</td>\n",
       "      <td>1</td>\n",
       "    </tr>\n",
       "    <tr>\n",
       "      <th>...</th>\n",
       "      <td>...</td>\n",
       "      <td>...</td>\n",
       "      <td>...</td>\n",
       "      <td>...</td>\n",
       "      <td>...</td>\n",
       "      <td>...</td>\n",
       "      <td>...</td>\n",
       "      <td>...</td>\n",
       "      <td>...</td>\n",
       "      <td>...</td>\n",
       "      <td>...</td>\n",
       "      <td>...</td>\n",
       "      <td>...</td>\n",
       "    </tr>\n",
       "    <tr>\n",
       "      <th>886</th>\n",
       "      <td>0</td>\n",
       "      <td>27.000000</td>\n",
       "      <td>0</td>\n",
       "      <td>0</td>\n",
       "      <td>13.0000</td>\n",
       "      <td>0</td>\n",
       "      <td>1</td>\n",
       "      <td>0</td>\n",
       "      <td>0</td>\n",
       "      <td>1</td>\n",
       "      <td>0</td>\n",
       "      <td>0</td>\n",
       "      <td>1</td>\n",
       "    </tr>\n",
       "    <tr>\n",
       "      <th>887</th>\n",
       "      <td>1</td>\n",
       "      <td>19.000000</td>\n",
       "      <td>0</td>\n",
       "      <td>0</td>\n",
       "      <td>30.0000</td>\n",
       "      <td>1</td>\n",
       "      <td>0</td>\n",
       "      <td>0</td>\n",
       "      <td>1</td>\n",
       "      <td>0</td>\n",
       "      <td>0</td>\n",
       "      <td>0</td>\n",
       "      <td>1</td>\n",
       "    </tr>\n",
       "    <tr>\n",
       "      <th>888</th>\n",
       "      <td>0</td>\n",
       "      <td>29.699118</td>\n",
       "      <td>1</td>\n",
       "      <td>2</td>\n",
       "      <td>23.4500</td>\n",
       "      <td>0</td>\n",
       "      <td>0</td>\n",
       "      <td>1</td>\n",
       "      <td>1</td>\n",
       "      <td>0</td>\n",
       "      <td>0</td>\n",
       "      <td>0</td>\n",
       "      <td>1</td>\n",
       "    </tr>\n",
       "    <tr>\n",
       "      <th>889</th>\n",
       "      <td>1</td>\n",
       "      <td>26.000000</td>\n",
       "      <td>0</td>\n",
       "      <td>0</td>\n",
       "      <td>30.0000</td>\n",
       "      <td>1</td>\n",
       "      <td>0</td>\n",
       "      <td>0</td>\n",
       "      <td>0</td>\n",
       "      <td>1</td>\n",
       "      <td>1</td>\n",
       "      <td>0</td>\n",
       "      <td>0</td>\n",
       "    </tr>\n",
       "    <tr>\n",
       "      <th>890</th>\n",
       "      <td>0</td>\n",
       "      <td>32.000000</td>\n",
       "      <td>0</td>\n",
       "      <td>0</td>\n",
       "      <td>7.7500</td>\n",
       "      <td>0</td>\n",
       "      <td>0</td>\n",
       "      <td>1</td>\n",
       "      <td>0</td>\n",
       "      <td>1</td>\n",
       "      <td>0</td>\n",
       "      <td>1</td>\n",
       "      <td>0</td>\n",
       "    </tr>\n",
       "  </tbody>\n",
       "</table>\n",
       "<p>891 rows × 13 columns</p>\n",
       "</div>"
      ],
      "text/plain": [
       "     Survived        Age  SibSp  Parch     Fare  Pclass_1  Pclass_2  Pclass_3  \\\n",
       "0           0  22.000000      1      0   7.2500         0         0         1   \n",
       "1           1  38.000000      1      0  71.2833         1         0         0   \n",
       "2           1  26.000000      0      0   7.9250         0         0         1   \n",
       "3           1  35.000000      1      0  53.1000         1         0         0   \n",
       "4           0  35.000000      0      0   8.0500         0         0         1   \n",
       "..        ...        ...    ...    ...      ...       ...       ...       ...   \n",
       "886         0  27.000000      0      0  13.0000         0         1         0   \n",
       "887         1  19.000000      0      0  30.0000         1         0         0   \n",
       "888         0  29.699118      1      2  23.4500         0         0         1   \n",
       "889         1  26.000000      0      0  30.0000         1         0         0   \n",
       "890         0  32.000000      0      0   7.7500         0         0         1   \n",
       "\n",
       "     Sex_female  Sex_male  Embarked_C  Embarked_Q  Embarked_S  \n",
       "0             0         1           0           0           1  \n",
       "1             1         0           1           0           0  \n",
       "2             1         0           0           0           1  \n",
       "3             1         0           0           0           1  \n",
       "4             0         1           0           0           1  \n",
       "..          ...       ...         ...         ...         ...  \n",
       "886           0         1           0           0           1  \n",
       "887           1         0           0           0           1  \n",
       "888           1         0           0           0           1  \n",
       "889           0         1           1           0           0  \n",
       "890           0         1           0           1           0  \n",
       "\n",
       "[891 rows x 13 columns]"
      ]
     },
     "execution_count": 5,
     "metadata": {},
     "output_type": "execute_result"
    }
   ],
   "source": [
    "# note: missing age data --> fill in with average ages\n",
    "# df_origin.isna().sum()\n",
    "\n",
    "df_origin['Age'] = df_origin['Age'].fillna(np.mean(df_origin['Age']))\n",
    "df_origin"
   ]
  },
  {
   "cell_type": "markdown",
   "metadata": {},
   "source": [
    "## Hypothesis Testing"
   ]
  },
  {
   "cell_type": "markdown",
   "metadata": {},
   "source": [
    "### Helper Functions"
   ]
  },
  {
   "cell_type": "markdown",
   "metadata": {},
   "source": [
    "#### Permutation Functions"
   ]
  },
  {
   "cell_type": "code",
   "execution_count": 6,
   "metadata": {},
   "outputs": [],
   "source": [
    "def permutation_sample(data1, data2):\n",
    "    #\"\"\"Generate a permutation sample from two data sets.\"\"\"\n",
    "\n",
    "    # Concatenate the data sets: data\n",
    "    data = np.concatenate((data1, data2))\n",
    "\n",
    "    # Permute the concatenated array: permuted_data\n",
    "    permuted_data = np.random.permutation(data)\n",
    "\n",
    "    # Split the permuted array into two: perm_sample_1, perm_sample_2\n",
    "    perm_sample_1 = permuted_data[:len(data1)]\n",
    "    perm_sample_2 = permuted_data[len(data1):]\n",
    "\n",
    "    return perm_sample_1, perm_sample_2\n",
    "\n",
    "# permutation replicate: test statistic generated from permutation sample\n",
    "def draw_perm_reps(data_1, data_2, func, size=1):\n",
    "    #\"\"\"Generate multiple permutation replicates.\"\"\"\n",
    "\n",
    "    # Initialize array of replicates: perm_replicates\n",
    "    perm_replicates = np.empty(size)\n",
    "\n",
    "    for i in range(size):\n",
    "        # Generate permutation sample\n",
    "        perm_sample_1, perm_sample_2 = permutation_sample(data_1, data_2)\n",
    "\n",
    "        # Compute the test statistic\n",
    "        perm_replicates[i] = func(perm_sample_1, perm_sample_2)\n",
    "\n",
    "    return perm_replicates"
   ]
  },
  {
   "cell_type": "markdown",
   "metadata": {},
   "source": [
    "#### Helper Functions For Categorical Feature Hypothesis Testing"
   ]
  },
  {
   "cell_type": "code",
   "execution_count": 7,
   "metadata": {},
   "outputs": [],
   "source": [
    "def frac_survivors(group1, group2):\n",
    "    #\"\"\"Compute fraction of Group1 survivors.\"\"\"\n",
    "    frac = np.sum(group1) / len(group1)\n",
    "    return frac\n",
    "\n",
    "def num_total_and_survived_passengers(passenger_df):\n",
    "    num_passengers = len(passenger_df)\n",
    "    num_survived_passengers = np.sum(passenger_df['Survived'])\n",
    "    return (num_passengers, num_survived_passengers)\n",
    "\n",
    "def categorical_hypothesis_test(group1_df, group2_df):\n",
    "    \n",
    "    # Get number of total and survived passengers for each group\n",
    "    num_group1_passengers, num_group1_survived = num_total_and_survived_passengers(group1_df)\n",
    "    num_group2_passengers, num_group2_survived = num_total_and_survived_passengers(group2_df)\n",
    "    \n",
    "    # Print observed test statistic \n",
    "    print('Observed Test Statistic: ', num_group1_survived/num_group1_passengers)\n",
    "    \n",
    "    # Construct arrays of data: males and females\n",
    "    group1 = np.array([True] * num_group1_survived + [False] * (num_group1_passengers - num_group1_survived))\n",
    "    group2 = np.array([True] * num_group2_survived + [False] * (num_group2_passengers - num_group2_survived))\n",
    "    \n",
    "    # Acquire permutation samples: perm_replicates\n",
    "    perm_replicates = draw_perm_reps(group1, group2, frac_survivors, 10000)\n",
    "    \n",
    "    # Compute and print p-value: p\n",
    "    p = np.sum(perm_replicates >= num_group1_survived/num_group1_passengers) / len(perm_replicates)\n",
    "    print('p-value =', p)\n",
    "    \n",
    "    # rough hist plot of permutation replicate distribution\n",
    "    _ = plt.hist(perm_replicates, bins=50)\n"
   ]
  },
  {
   "cell_type": "markdown",
   "metadata": {},
   "source": [
    "#### Bootstrap Functions"
   ]
  },
  {
   "cell_type": "code",
   "execution_count": 8,
   "metadata": {},
   "outputs": [],
   "source": [
    "def bootstrap_replicate_1d(data, func):\n",
    "    #\"\"\"Generate bootstrap replicate of 1D data.\"\"\"\n",
    "    bs_sample = np.random.choice(data, len(data))\n",
    "    return func(bs_sample)\n",
    "\n",
    "def draw_bs_reps(data, func, size=1):\n",
    "    #\"\"\"Draw bootstrap replicates.\"\"\"\n",
    "\n",
    "    # Initialize array of replicates: bs_replicates\n",
    "    bs_replicates = np.empty(size)\n",
    "\n",
    "    # Generate replicates\n",
    "    for i in range(size):\n",
    "        bs_replicates[i] = bootstrap_replicate_1d(data, func)\n",
    "\n",
    "    return bs_replicates"
   ]
  },
  {
   "cell_type": "markdown",
   "metadata": {},
   "source": [
    "#### Helper Functions For Numerical Feature Hypothesis Testing"
   ]
  },
  {
   "cell_type": "code",
   "execution_count": 9,
   "metadata": {},
   "outputs": [],
   "source": [
    "def numerical_hypothesis_test(feature_name, func):\n",
    "    \n",
    "    # Get feature values for survivors\n",
    "    survivors_feature = df_origin[df_origin['Survived'] == 1][feature_name]\n",
    "    # Get feature values for non-survivors\n",
    "    nonsurvivors_feature = df_origin[df_origin['Survived'] == 0][feature_name]\n",
    "\n",
    "    # Generate a lot of replicates\n",
    "    survivors_feature_replicates = draw_bs_reps(survivors_feature, func, 10000)\n",
    "    nonsurvivor_feature_replicates = draw_bs_reps(nonsurvivors_feature, func, 10000)\n",
    "\n",
    "    # Calculate test statistics \n",
    "    bs_test_stats = (survivors_feature_replicates - nonsurvivor_feature_replicates) # array of mean/median differences between both bs sample\n",
    "    observed_test_stats = (func(survivors_feature) - func(nonsurvivors_feature))\n",
    "\n",
    "    # Print observed test statistic \n",
    "    print('Observed Test Statistic: ', observed_test_stats)\n",
    "    \n",
    "    p_value = np.sum(bs_test_stats >= observed_test_stats) / 10000\n",
    "    print('p-value =', p_value)\n",
    "\n",
    "     # rough hist plot of survivor replicate distribution\n",
    "    _ = plt.hist(survivors_feature_replicates, alpha = 0.7, bins=50)\n",
    "    # rough hist plot of non-survivor replicate distribution\n",
    "    _ = plt.hist(nonsurvivor_feature_replicates, alpha = 0.7, bins=50)\n",
    "    plt.legend(['Survivors Feature Replicates', 'Non-Survivors Feature Replicates'])\n",
    "    \n",
    "\n",
    "\n"
   ]
  },
  {
   "cell_type": "markdown",
   "metadata": {},
   "source": [
    "--------------------------------------------------------------------------------------------------"
   ]
  },
  {
   "cell_type": "markdown",
   "metadata": {},
   "source": [
    "### Categorical Features Hypothesis Testing"
   ]
  },
  {
   "cell_type": "markdown",
   "metadata": {},
   "source": [
    "### Gender\n",
    "\n",
    "Null hypothesis: There is no difference in survival\n",
    "\n",
    "Test statistic: # Female Survivors / Total Female Passengers\n",
    "\n",
    "If gender did not impact survival --> large number of bootstrap \n",
    "replicates with a proportion of female survivors (test statistic)\n",
    "at least as large as the one observed in the data\n",
    "\n",
    "AKA p-value (probability of above)\n",
    "- small: data are statistically significantly different than what's observed under the null hypothesis (null hypothesis circumstances are different than the actual circumstances)"
   ]
  },
  {
   "cell_type": "code",
   "execution_count": 10,
   "metadata": {},
   "outputs": [],
   "source": [
    "# df all female passgengers\n",
    "female_passengers = df_origin[df_origin['Sex_female'] == 1]\n",
    "# df all male passengers\n",
    "male_passengers = df_origin[df_origin['Sex_male'] == 1]"
   ]
  },
  {
   "cell_type": "code",
   "execution_count": 11,
   "metadata": {},
   "outputs": [
    {
     "name": "stdout",
     "output_type": "stream",
     "text": [
      "Observed Test Statistic:  0.7420382165605095\n",
      "p-value = 0.0\n"
     ]
    },
    {
     "data": {
      "image/png": "[encoded data removed]",
      "text/plain": [
       "<Figure size 432x288 with 1 Axes>"
      ]
     },
     "metadata": {
      "needs_background": "light"
     },
     "output_type": "display_data"
    }
   ],
   "source": [
    "categorical_hypothesis_test(female_passengers, male_passengers)"
   ]
  },
  {
   "cell_type": "markdown",
   "metadata": {},
   "source": [
    "<p>\n",
    "<span style=\"color:blue\">\n",
    "    Our p-value IS signficantly small, meaning the data observed under the null hypothesis is statistically significantly different from the actual/observed data. Therefore we can reject the nully hypothesis that there is no difference in survival based on gender, and say that there IS a difference in survival based on gender.    \n",
    "    <br><br>\n",
    "    As a result, gender is a significant feature in predicting survival.\n",
    "    </span>\n",
    "\n",
    "</p>\n"
   ]
  },
  {
   "cell_type": "markdown",
   "metadata": {},
   "source": [
    "### Class\n",
    "\n",
    "Null hypothesis: There is no difference in class survival\n",
    "\n",
    "Test statistic: # Pclass1 Survivors / Total Pclass1 Passengers"
   ]
  },
  {
   "cell_type": "code",
   "execution_count": 12,
   "metadata": {},
   "outputs": [],
   "source": [
    "# df all Pclass1 passgengers\n",
    "Pclass1_passengers = df_origin[df_origin['Pclass_1'] == 1]\n",
    "# df all Pclass2+Pclass3 passengers\n",
    "Pclass23_passengers = df_origin[(df_origin['Pclass_2'] == 1) | (df_origin['Pclass_3'] == 1)]\n"
   ]
  },
  {
   "cell_type": "code",
   "execution_count": 13,
   "metadata": {},
   "outputs": [
    {
     "name": "stdout",
     "output_type": "stream",
     "text": [
      "Observed Test Statistic:  0.6296296296296297\n",
      "p-value = 0.0\n"
     ]
    },
    {
     "data": {
      "image/png": "[encoded data removed]",
      "text/plain": [
       "<Figure size 432x288 with 1 Axes>"
      ]
     },
     "metadata": {
      "needs_background": "light"
     },
     "output_type": "display_data"
    }
   ],
   "source": [
    "categorical_hypothesis_test(Pclass1_passengers, Pclass23_passengers)"
   ]
  },
  {
   "cell_type": "markdown",
   "metadata": {},
   "source": [
    "<p>\n",
    "<span style=\"color:blue\">\n",
    "    Our p-value IS signficantly small, meaning the data observed under the null hypothesis is statistically significantly different from the actual/observed data. Therefore we can reject the nully hypothesis that there is no difference in survival based on class, and say that there IS a difference in survival based on class.\n",
    "    <br><br>\n",
    "    As a result, class is a significant feature in predicting survival.\n",
    "    </span>\n",
    "</p>"
   ]
  },
  {
   "cell_type": "markdown",
   "metadata": {},
   "source": [
    "### Embarked\n",
    "\n",
    "Null hypothesis: There is no difference in Embarked location survival\n",
    "\n",
    "Test statistic: # Embarked_C Survivors / Total Embarked_C Passengers"
   ]
  },
  {
   "cell_type": "code",
   "execution_count": 14,
   "metadata": {},
   "outputs": [],
   "source": [
    "# df all Embarked_C passgengers\n",
    "Embarked_C_passengers = df_origin[df_origin['Embarked_C'] == 1]\n",
    "# df all Embarked_Q + Embarked_S passgengers\n",
    "Embarked_QS_passengers = df_origin[(df_origin['Embarked_Q'] == 1) | (df_origin['Embarked_S'] == 1)]\n"
   ]
  },
  {
   "cell_type": "code",
   "execution_count": 15,
   "metadata": {},
   "outputs": [
    {
     "name": "stdout",
     "output_type": "stream",
     "text": [
      "Observed Test Statistic:  0.5535714285714286\n",
      "p-value = 0.0\n"
     ]
    },
    {
     "data": {
      "image/png": "[encoded data removed]",
      "text/plain": [
       "<Figure size 432x288 with 1 Axes>"
      ]
     },
     "metadata": {
      "needs_background": "light"
     },
     "output_type": "display_data"
    }
   ],
   "source": [
    "categorical_hypothesis_test(Embarked_C_passengers, Embarked_QS_passengers)"
   ]
  },
  {
   "cell_type": "markdown",
   "metadata": {},
   "source": [
    "<p>\n",
    "<span style=\"color:blue\">\n",
    "    Our p-value IS signficantly small, meaning the data observed under the null hypothesis is statistically significantly different from the actual/observed data. Therefore we can reject the nully hypothesis that there is no difference in survival based on embark location, and say that there IS a difference in survival based on embark location.\n",
    "    <br><br>\n",
    "    As a result, embark location is a significant feature in predicting survival.\n",
    "    </span>\n",
    "</p>"
   ]
  },
  {
   "cell_type": "markdown",
   "metadata": {},
   "source": [
    "--------------------------------------------------------------------------------------------------"
   ]
  },
  {
   "cell_type": "markdown",
   "metadata": {},
   "source": [
    "### Numerical Features Hypothesis Testing"
   ]
  },
  {
   "cell_type": "markdown",
   "metadata": {},
   "source": [
    "### Sibsp\n",
    "\n",
    "Null hypothesis: There is no difference in survival based on number of siblings/spouses --> Survivors and non-survivors have identical sibling/spouse distributions\n",
    "\n",
    "Test statistic: mean(sibsp of survivors) - mean(sibsp of non-survivors)"
   ]
  },
  {
   "cell_type": "code",
   "execution_count": 16,
   "metadata": {},
   "outputs": [
    {
     "name": "stdout",
     "output_type": "stream",
     "text": [
      "Observed Test Statistic:  -0.08004985140446746\n",
      "p-value = 0.4977\n"
     ]
    },
    {
     "data": {
      "image/png": "[encoded data removed]",
      "text/plain": [
       "<Figure size 432x288 with 1 Axes>"
      ]
     },
     "metadata": {
      "needs_background": "light"
     },
     "output_type": "display_data"
    }
   ],
   "source": [
    "numerical_hypothesis_test('SibSp', np.mean)"
   ]
  },
  {
   "cell_type": "markdown",
   "metadata": {},
   "source": [
    "<p>\n",
    "<span style=\"color:blue\">\n",
    "    Our p-value is not signficantly small (0.4985). If it was, we could outright say that the null hypothesis is false. However, because the p-value is not significantly small, we cannot say whether or not it is certainly true or false. (i.e. we cannot reject the null hypothesis, i.e. we cannot say for certain that there is no difference in survival based on sibsp)\n",
    "</span>\n",
    "</p>"
   ]
  },
  {
   "cell_type": "code",
   "execution_count": null,
   "metadata": {},
   "outputs": [],
   "source": []
  },
  {
   "cell_type": "markdown",
   "metadata": {},
   "source": [
    "### Age\n",
    "\n",
    "Null hypothesis: There is no difference in survival based on age --> Survivors and non-survivors have identical age distributions\n",
    "\n",
    "Test statistic: mean(age of survivors) - mean(age of non-survivors)"
   ]
  },
  {
   "cell_type": "code",
   "execution_count": 17,
   "metadata": {},
   "outputs": [
    {
     "name": "stdout",
     "output_type": "stream",
     "text": [
      "Observed Test Statistic:  -1.8653215246408656\n",
      "p-value = 0.498\n"
     ]
    },
    {
     "data": {
      "image/png": "[encoded data removed]",
      "text/plain": [
       "<Figure size 432x288 with 1 Axes>"
      ]
     },
     "metadata": {
      "needs_background": "light"
     },
     "output_type": "display_data"
    }
   ],
   "source": [
    "numerical_hypothesis_test('Age', np.mean)"
   ]
  },
  {
   "cell_type": "markdown",
   "metadata": {},
   "source": [
    "<p>\n",
    "<span style=\"color:blue\">\n",
    "    Our p-value is not signficantly small (0.5059). If it was, we could outright say that the null hypothesis is false. However, because the p-value is not significantly small, we cannot say whether or not it is certainly true or false. (i.e. we cannot reject the null hypothesis, i.e. we cannot say for certain that there is no difference in survival based on age)\n",
    "</span>\n",
    "</p>"
   ]
  },
  {
   "cell_type": "markdown",
   "metadata": {},
   "source": [
    "### Fare\n",
    "\n",
    "Null hypothesis: There is no difference in survival based on fare --> Survivors and non-survivors have identical fare distributions\n",
    "\n",
    "Test statistic: mean(fare of survivors) - mean(fare of non-survivors)"
   ]
  },
  {
   "cell_type": "code",
   "execution_count": 18,
   "metadata": {},
   "outputs": [
    {
     "name": "stdout",
     "output_type": "stream",
     "text": [
      "Observed Test Statistic:  26.277520717093292\n",
      "p-value = 0.4892\n"
     ]
    },
    {
     "data": {
      "image/png": "[encoded data removed]",
      "text/plain": [
       "<Figure size 432x288 with 1 Axes>"
      ]
     },
     "metadata": {
      "needs_background": "light"
     },
     "output_type": "display_data"
    }
   ],
   "source": [
    "numerical_hypothesis_test('Fare', np.mean)"
   ]
  },
  {
   "cell_type": "markdown",
   "metadata": {},
   "source": [
    "<p>\n",
    "<span style=\"color:blue\">\n",
    "    Our p-value is not signficantly small (0.5158). If it was, we could outright say that the null hypothesis is false. However, because the p-value is not significantly small, we cannot say whether or not it is certainly true or false. (i.e. we cannot reject the null hypothesis, i.e. we cannot say for certain that there is no difference in survival based on fare)\n",
    "</span>\n",
    "</p>"
   ]
  },
  {
   "cell_type": "markdown",
   "metadata": {
    "collapsed": true
   },
   "source": [
    "## Build Logistic Regression Models"
   ]
  },
  {
   "cell_type": "markdown",
   "metadata": {
    "collapsed": true
   },
   "source": [
    "### Split data into train & test"
   ]
  },
  {
   "cell_type": "code",
   "execution_count": 19,
   "metadata": {},
   "outputs": [],
   "source": [
    "from sklearn.model_selection import train_test_split\n",
    "\n",
    "y = df_origin.Survived\n",
    "X = df_origin.drop(columns='Survived')\n",
    "\n",
    "X_train, X_test, y_train, y_test = train_test_split(X, y, test_size=0.2, random_state=42)"
   ]
  },
  {
   "cell_type": "markdown",
   "metadata": {
    "collapsed": true
   },
   "source": [
    "### Build models: SVC, LogisticRegression\n",
    "(Based on Training Data)"
   ]
  },
  {
   "cell_type": "markdown",
   "metadata": {
    "collapsed": true
   },
   "source": [
    "#### Build SVC Model"
   ]
  },
  {
   "cell_type": "code",
   "execution_count": 20,
   "metadata": {},
   "outputs": [
    {
     "name": "stdout",
     "output_type": "stream",
     "text": [
      "SVC Accuracy:  0.6699438202247191\n"
     ]
    }
   ],
   "source": [
    "# perform logistic regression using SVC\n",
    "from sklearn.svm import SVC\n",
    "svm = SVC(random_state=42) # default hyperparameters --> kernel='linear', \n",
    "svm.fit(X_train, y_train)\n",
    "print(\"SVC Accuracy: \", svm.score(X_train, y_train)) # accuracy "
   ]
  },
  {
   "cell_type": "markdown",
   "metadata": {
    "collapsed": true
   },
   "source": [
    "#### Build Logistic Regression Model"
   ]
  },
  {
   "cell_type": "code",
   "execution_count": 21,
   "metadata": {},
   "outputs": [
    {
     "name": "stdout",
     "output_type": "stream",
     "text": [
      "LogisticRegression Accuracy:  0.8061797752808989\n"
     ]
    }
   ],
   "source": [
    "from sklearn.linear_model import LogisticRegression\n",
    "lr = LogisticRegression(solver='newton-cg', random_state=42)\n",
    "lr.fit(X_train, y_train)\n",
    "print(\"LogisticRegression Accuracy: \", lr.score(X_train, y_train)) # accuracy "
   ]
  },
  {
   "cell_type": "markdown",
   "metadata": {
    "collapsed": true
   },
   "source": [
    "## Optimize models: Cross Validation of Regularization\n",
    "(Model built using Training Data, using this model since it has the highest confidence interval)"
   ]
  },
  {
   "cell_type": "code",
   "execution_count": 22,
   "metadata": {},
   "outputs": [],
   "source": [
    "# from sklearn.model_selection import cross_val_score\n",
    "# # params: regressor, feature data, target data, cv=number of folds\n",
    "# # returns: array of cross-validation scores, length of array = numner of folds\n",
    "# svm_cv_results = cross_val_score(svm, X, y, cv=5) \n",
    "# np.mean(svm_cv_results)"
   ]
  },
  {
   "cell_type": "code",
   "execution_count": 23,
   "metadata": {},
   "outputs": [],
   "source": [
    "# lr_cv_results = cross_val_score(lr, X, y, cv=5) \n",
    "# np.mean(lr_cv_results)"
   ]
  },
  {
   "cell_type": "markdown",
   "metadata": {
    "collapsed": true
   },
   "source": [
    "### Hyperparameter tuning: RandomizedSearchCV of Regularization \"C\" Variable"
   ]
  },
  {
   "cell_type": "code",
   "execution_count": 24,
   "metadata": {},
   "outputs": [
    {
     "name": "stdout",
     "output_type": "stream",
     "text": [
      "SVM: C value that performed the best:  {'C': 1211}\n",
      "SVM: Mean cross validation score over that fold:  0.8062010954616587\n"
     ]
    }
   ],
   "source": [
    "### RandomizedSearchCV\n",
    "from sklearn.model_selection import RandomizedSearchCV\n",
    "from scipy.stats import randint\n",
    "# Hyperparameters as a dictionary\n",
    "param_dist = {'C': randint(1200, 1400)}\n",
    "# Pass our model, the grid to tune over, and the number of folds to use\n",
    "# returns GridSearch object\n",
    "svm_cv = RandomizedSearchCV(svm, param_dist, cv=10)\n",
    "# use GridSearch object to fit the data and this fit performs the actual grid search in place\n",
    "svm_cv.fit(X_train, y_train)\n",
    "# Retreive hyperparameters that perform best\n",
    "print(\"SVM: C value that performed the best: \", svm_cv.best_params_)\n",
    "# Mean cross validation score over that fold\n",
    "print(\"SVM: Mean cross validation score over that fold: \", svm_cv.best_score_)"
   ]
  },
  {
   "cell_type": "code",
   "execution_count": 25,
   "metadata": {},
   "outputs": [
    {
     "name": "stdout",
     "output_type": "stream",
     "text": [
      "LogisticRegression: C value that performed the best:  {'C': 0.026506726685191908}\n",
      "LogisticRegression: Mean cross validation score over that fold:  0.8075704225352114\n"
     ]
    }
   ],
   "source": [
    "from scipy.stats import uniform\n",
    "lr_param_dist = {'C': uniform(0.02, 0.04)}\n",
    "lr_cv = RandomizedSearchCV(lr, lr_param_dist, cv=10)\n",
    "# use GridSearch object to fit the data and this fit performs the actual grid search in place\n",
    "lr_cv.fit(X_train, y_train)\n",
    "# Retreive hyperparameters that perform best\n",
    "print(\"LogisticRegression: C value that performed the best: \", lr_cv.best_params_)\n",
    "# Mean cross validation score over that fold\n",
    "print(\"LogisticRegression: Mean cross validation score over that fold: \", lr_cv.best_score_)"
   ]
  },
  {
   "cell_type": "markdown",
   "metadata": {
    "collapsed": true
   },
   "source": [
    "### Build new, optimized models with tuned regularization values"
   ]
  },
  {
   "cell_type": "markdown",
   "metadata": {
    "collapsed": true
   },
   "source": [
    "#### Build SVC Model"
   ]
  },
  {
   "cell_type": "code",
   "execution_count": 32,
   "metadata": {},
   "outputs": [
    {
     "name": "stdout",
     "output_type": "stream",
     "text": [
      "SVC Accuracy:  0.7921348314606742\n"
     ]
    }
   ],
   "source": [
    "## perform logistic regression using SVC\n",
    "optimized_svm = SVC(C=1385, kernel=\"linear\", random_state=42).fit(X_train, y_train) # kernel=\"linear\" --> for coef_\n",
    "print(\"SVC Accuracy: \", optimized_svm.score(X_train, y_train)) # accuracy "
   ]
  },
  {
   "cell_type": "markdown",
   "metadata": {
    "collapsed": true
   },
   "source": [
    "#### Build LogisticRegression Model"
   ]
  },
  {
   "cell_type": "code",
   "execution_count": 34,
   "metadata": {},
   "outputs": [
    {
     "name": "stdout",
     "output_type": "stream",
     "text": [
      "LogisticRegression Accuracy:  0.8146067415730337\n"
     ]
    }
   ],
   "source": [
    "optimized_lr = LogisticRegression(C=0.03, solver='newton-cg', random_state=42).fit(X_train, y_train)\n",
    "print(\"LogisticRegression Accuracy: \", optimized_lr.score(X_train, y_train)) # accuracy \n"
   ]
  },
  {
   "cell_type": "code",
   "execution_count": 49,
   "metadata": {},
   "outputs": [
    {
     "name": "stdout",
     "output_type": "stream",
     "text": [
      "linear regression 0s: 114\n",
      "linear regression 1s: 65\n",
      "svm 0s: 108\n",
      "svm 1s: 71\n",
      "test 0s: 105\n",
      "test 1s: 74\n",
      "linear regression score: 0.8044692737430168\n",
      "svm score: 0.8156424581005587\n"
     ]
    }
   ],
   "source": [
    "y_pred_svm = optimized_svm.predict(X_test)\n",
    "\n",
    "y_pred_lr = optimized_lr.predict(X_test)\n",
    "\n",
    "print(\"linear regression 0s:\", np.count_nonzero(y_pred_lr==0))\n",
    "print(\"linear regression 1s:\", np.count_nonzero(y_pred_lr==1))\n",
    "\n",
    "print(\"svm 0s:\", np.count_nonzero(y_pred_svm==0))\n",
    "print(\"svm 1s:\", np.count_nonzero(y_pred_svm==1))\n",
    "\n",
    "print(\"test 0s:\", np.count_nonzero(y_test==0))\n",
    "print(\"test 1s:\", np.count_nonzero(y_test==1))\n",
    "\n",
    "lr_score = optimized_lr.score(X_test, y_test)\n",
    "print(\"linear regression score:\", lr_score)\n",
    "svm_score = optimized_svm.score(X_test, y_test)\n",
    "print(\"svm score:\", svm_score)"
   ]
  },
  {
   "cell_type": "markdown",
   "metadata": {
    "collapsed": true
   },
   "source": [
    "#### Plotting ROC Curve"
   ]
  },
  {
   "cell_type": "code",
   "execution_count": null,
   "metadata": {},
   "outputs": [],
   "source": []
  },
  {
   "cell_type": "code",
   "execution_count": null,
   "metadata": {},
   "outputs": [],
   "source": []
  },
  {
   "cell_type": "markdown",
   "metadata": {
    "collapsed": true
   },
   "source": [
    "#### Area under the ROC curve (AUC)\n"
   ]
  },
  {
   "cell_type": "code",
   "execution_count": null,
   "metadata": {},
   "outputs": [],
   "source": []
  },
  {
   "cell_type": "code",
   "execution_count": null,
   "metadata": {},
   "outputs": [],
   "source": []
  },
  {
   "cell_type": "markdown",
   "metadata": {},
   "source": [
    "<p>\n",
    "<span style=\"color:blue\">\n",
    "TRY DIFFERNT FOLDS\n",
    "</span>\n",
    "</p>"
   ]
  },
  {
   "cell_type": "markdown",
   "metadata": {
    "collapsed": true
   },
   "source": [
    "## Investigating important features"
   ]
  },
  {
   "cell_type": "code",
   "execution_count": 62,
   "metadata": {},
   "outputs": [
    {
     "data": {
      "text/plain": [
       "Index(['Age', 'SibSp', 'Parch', 'Fare', 'Pclass_1', 'Pclass_2', 'Pclass_3',\n",
       "       'Sex_female', 'Sex_male', 'Embarked_C', 'Embarked_Q', 'Embarked_S'],\n",
       "      dtype='object')"
      ]
     },
     "execution_count": 62,
     "metadata": {},
     "output_type": "execute_result"
    }
   ],
   "source": [
    "df_origin.columns[1:]"
   ]
  },
  {
   "cell_type": "code",
   "execution_count": 55,
   "metadata": {},
   "outputs": [
    {
     "data": {
      "text/plain": [
       "array([[0.02041673, 0.21655769, 0.04913494, 0.00853254, 0.25026786,\n",
       "        0.18889626, 0.43916329, 0.78989028, 0.78988945, 0.11830947,\n",
       "        0.02134598, 0.15503516]])"
      ]
     },
     "execution_count": 55,
     "metadata": {},
     "output_type": "execute_result"
    }
   ],
   "source": [
    "abs(optimized_lr.coef_)"
   ]
  },
  {
   "cell_type": "code",
   "execution_count": 51,
   "metadata": {},
   "outputs": [
    {
     "data": {
      "text/plain": [
       "[<matplotlib.lines.Line2D at 0x18a5038be50>]"
      ]
     },
     "execution_count": 51,
     "metadata": {},
     "output_type": "execute_result"
    },
    {
     "data": {
      "image/png": "[encoded data removed]",
      "text/plain": [
       "<Figure size 432x288 with 1 Axes>"
      ]
     },
     "metadata": {
      "needs_background": "light"
     },
     "output_type": "display_data"
    }
   ],
   "source": [
    "plt.plot(optimized_lr.coef_.flatten())"
   ]
  },
  {
   "cell_type": "code",
   "execution_count": 52,
   "metadata": {},
   "outputs": [
    {
     "data": {
      "text/plain": [
       "array([[0.07111787, 0.82759754, 0.85541314, 0.03453549, 1.03789514,\n",
       "        0.08629614, 0.951599  , 2.1966167 , 2.1966167 , 0.63887604,\n",
       "        0.19422543, 0.44465061]])"
      ]
     },
     "execution_count": 52,
     "metadata": {},
     "output_type": "execute_result"
    }
   ],
   "source": [
    "abs(optimized_svm.coef_)"
   ]
  },
  {
   "cell_type": "code",
   "execution_count": 53,
   "metadata": {},
   "outputs": [
    {
     "data": {
      "text/plain": [
       "[<matplotlib.lines.Line2D at 0x18a5058dac0>]"
      ]
     },
     "execution_count": 53,
     "metadata": {},
     "output_type": "execute_result"
    },
    {
     "data": {
      "image/png": "[encoded data removed]",
      "text/plain": [
       "<Figure size 432x288 with 1 Axes>"
      ]
     },
     "metadata": {
      "needs_background": "light"
     },
     "output_type": "display_data"
    }
   ],
   "source": [
    "plt.plot(optimized_svm.coef_.flatten())"
   ]
  },
  {
   "cell_type": "markdown",
   "metadata": {},
   "source": [
    "sgd classifier, does have coef_\n",
    "- use svm or logreg using smae underlying scikit learn class, change loss function\n",
    "- loss = hinge, same as svc --> faster "
   ]
  }
 ],
 "metadata": {
  "kernelspec": {
   "display_name": "introds",
   "language": "python",
   "name": "introds"
  },
  "language_info": {
   "codemirror_mode": {
    "name": "ipython",
    "version": 3
   },
   "file_extension": ".py",
   "mimetype": "text/x-python",
   "name": "python",
   "nbconvert_exporter": "python",
   "pygments_lexer": "ipython3",
   "version": "3.9.7"
  }
 },
 "nbformat": 4,
 "nbformat_minor": 1
}
